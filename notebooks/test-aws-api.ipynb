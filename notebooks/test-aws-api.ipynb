{
 "cells": [
  {
   "cell_type": "code",
   "execution_count": 1,
   "metadata": {},
   "outputs": [],
   "source": [
    "import requests\n",
    "import pandas as pd\n",
    "import json\n",
    "from six import BytesIO\n",
    "import numpy as np"
   ]
  },
  {
   "cell_type": "code",
   "execution_count": 4,
   "metadata": {},
   "outputs": [],
   "source": [
    "df = pd.read_csv('/Users/rickgentry/github/space-bandits/stock_contexts_rewards.csv',header=None)"
   ]
  },
  {
   "cell_type": "code",
   "execution_count": 6,
   "metadata": {},
   "outputs": [],
   "source": [
    "data = df.to_dict()"
   ]
  },
  {
   "cell_type": "code",
   "execution_count": 4,
   "metadata": {},
   "outputs": [],
   "source": [
    "base_url = \"https://bsegtva3l7.execute-api.us-west-2.amazonaws.com/dev\""
   ]
  },
  {
   "cell_type": "code",
   "execution_count": 12,
   "metadata": {},
   "outputs": [],
   "source": [
    "payload = {\"data\":data, \"key\": \"data/stock.csv\"}"
   ]
  },
  {
   "cell_type": "code",
   "execution_count": 18,
   "metadata": {},
   "outputs": [],
   "source": [
    "r = requests.post(os.path.join(base_url,\"upload_data\"),json=payload)"
   ]
  },
  {
   "cell_type": "code",
   "execution_count": 26,
   "metadata": {},
   "outputs": [
    {
     "output_type": "execute_result",
     "data": {
      "text/plain": "{'statusCode': 200, 'path': 's3://dev-s3databucket/data/stock.csv'}"
     },
     "metadata": {},
     "execution_count": 26
    }
   ],
   "source": [
    "r.json()"
   ]
  },
  {
   "cell_type": "code",
   "execution_count": 31,
   "metadata": {},
   "outputs": [
    {
     "output_type": "stream",
     "name": "stdout",
     "text": "[0, 1, 2, 3, 4, 5, 6, 7, 8, 9, 10, 11, 12, 13, 14, 15, 16, 17, 18, 19, 20] [21, 22, 23, 24, 25, 26, 27, 28]\n"
    }
   ],
   "source": [
    "context_cols = list(range(0,21))\n",
    "reward_cols = list(range(21,29))\n",
    "print(context_cols, reward_cols)"
   ]
  },
  {
   "cell_type": "code",
   "execution_count": 13,
   "metadata": {},
   "outputs": [],
   "source": [
    "payload = {\n",
    "    \"DataSourceId\": \"1111ds\",\n",
    "    \"DataSourceName\": \"StockTrainingData\",\n",
    "    \"ComputeStatistics\": True,\n",
    "    \"S3DataSpec\": {\n",
    "        \"DataLocationS3\": 's3://dev-s3databucket/data/stock.csv',\n",
    "        \"ContextDim\": 21,\n",
    "        \"ActionDim\": 8\n",
    "    }\n",
    "\n",
    "}\n",
    ""
   ]
  },
  {
   "cell_type": "code",
   "execution_count": 31,
   "metadata": {},
   "outputs": [],
   "source": [
    "r = requests.post(os.path.join(base_url,\"create_s3_datasource\"),json=payload)\n",
    ""
   ]
  },
  {
   "cell_type": "code",
   "execution_count": 32,
   "metadata": {},
   "outputs": [
    {
     "output_type": "error",
     "ename": "KeyError",
     "evalue": "'DataSourceId'",
     "traceback": [
      "\u001b[0;31m---------------------------------------------------------------------------\u001b[0m",
      "\u001b[0;31mKeyError\u001b[0m                                  Traceback (most recent call last)",
      "\u001b[0;32m<ipython-input-32-4c3151970e5d>\u001b[0m in \u001b[0;36m<module>\u001b[0;34m\u001b[0m\n\u001b[0;32m----> 1\u001b[0;31m \u001b[0mdatasource_id\u001b[0m \u001b[0;34m=\u001b[0m \u001b[0mr\u001b[0m\u001b[0;34m.\u001b[0m\u001b[0mjson\u001b[0m\u001b[0;34m(\u001b[0m\u001b[0;34m)\u001b[0m\u001b[0;34m[\u001b[0m\u001b[0;34m'DataSourceId'\u001b[0m\u001b[0;34m]\u001b[0m\u001b[0;34m\u001b[0m\u001b[0;34m\u001b[0m\u001b[0m\n\u001b[0m",
      "\u001b[0;31mKeyError\u001b[0m: 'DataSourceId'"
     ]
    }
   ],
   "source": [
    "datasource_id = r.json()['DataSourceId']"
   ]
  },
  {
   "cell_type": "code",
   "execution_count": 42,
   "metadata": {},
   "outputs": [
    {
     "output_type": "execute_result",
     "data": {
      "text/plain": "'1111ds'"
     },
     "metadata": {},
     "execution_count": 42
    }
   ],
   "source": [
    "datasource_id"
   ]
  },
  {
   "cell_type": "code",
   "execution_count": 43,
   "metadata": {},
   "outputs": [],
   "source": [
    "payload = {\n",
    "    \"ModelId\": \"23456id\",\n",
    "    \"ModelName\": \"test-model\",\n",
    "    \"Parameters\": {\n",
    "        \"Epochs\": \"20\",\n",
    "        \"Layers\": \"[5,20,10]\"\n",
    "    },\n",
    "    \"TrainingDataSourceId\": datasource_id\n",
    "}"
   ]
  },
  {
   "cell_type": "code",
   "execution_count": 44,
   "metadata": {},
   "outputs": [],
   "source": [
    "r = requests.post(os.path.join(base_url,\"create_model\"),json=payload)"
   ]
  },
  {
   "cell_type": "code",
   "execution_count": 45,
   "metadata": {},
   "outputs": [
    {
     "output_type": "execute_result",
     "data": {
      "text/plain": "{'errorMessage': \"Syntax error in module 'lambda_functions/createModel': invalid syntax (createModel.py, line 85)\",\n 'errorType': 'Runtime.UserCodeSyntaxError',\n 'stackTrace': ['  File \"/var/task/lambda_functions/createModel.py\" Line 85\\n                \"ModelName\" = self.name,\\n']}"
     },
     "metadata": {},
     "execution_count": 45
    }
   ],
   "source": [
    "r.json()"
   ]
  },
  {
   "cell_type": "code",
   "execution_count": null,
   "metadata": {},
   "outputs": [],
   "source": []
  }
 ],
 "metadata": {
  "kernelspec": {
   "display_name": "Python 3.7.4 64-bit ('fastai': conda)",
   "language": "python",
   "name": "python37464bitfastaiconda602a2ae5c0b34237a3716c1b1b073636"
  },
  "language_info": {
   "codemirror_mode": {
    "name": "ipython",
    "version": 3
   },
   "file_extension": ".py",
   "mimetype": "text/x-python",
   "name": "python",
   "nbconvert_exporter": "python",
   "pygments_lexer": "ipython3",
   "version": "3.7.6-final"
  }
 },
 "nbformat": 4,
 "nbformat_minor": 4
}