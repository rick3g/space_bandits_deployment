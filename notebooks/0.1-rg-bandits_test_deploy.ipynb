{
 "cells": [
  {
   "cell_type": "code",
   "execution_count": 48,
   "metadata": {},
   "outputs": [
    {
     "name": "stdout",
     "output_type": "stream",
     "text": [
      "The autoreload extension is already loaded. To reload it, use:\n",
      "  %reload_ext autoreload\n"
     ]
    }
   ],
   "source": [
    "import os\n",
    "import sys\n",
    "import math\n",
    "import logging\n",
    "from pathlib import Path\n",
    "import json\n",
    "import glob\n",
    "import re\n",
    "\n",
    "import numpy as np\n",
    "import scipy as sp\n",
    "import sklearn\n",
    "import statsmodels.api as sm\n",
    "from statsmodels.formula.api import ols\n",
    "\n",
    "%load_ext autoreload\n",
    "%autoreload 2\n",
    "\n",
    "import matplotlib as mpl\n",
    "import matplotlib.pyplot as plt\n",
    "%matplotlib inline\n",
    "%config InlineBackend.figure_format = 'retina'\n",
    "\n",
    "import seaborn as sns\n",
    "sns.set_context(\"poster\")\n",
    "sns.set(rc={'figure.figsize': (16, 9.)})\n",
    "sns.set_style(\"whitegrid\")\n",
    "\n",
    "import pandas as pd\n",
    "pd.set_option(\"display.max_rows\", 120)\n",
    "pd.set_option(\"display.max_columns\", 120)\n",
    "\n",
    "import sagemaker\n",
    "import boto3\n",
    "from IPython.display import HTML\n",
    "import time\n",
    "from time import gmtime, strftime\n",
    "#from misc import get_execution_role, wait_for_s3_object\n",
    "from sagemaker.pytorch import PyTorch, PyTorchModel\n",
    "logging.basicConfig(level=logging.INFO, stream=sys.stdout)"
   ]
  },
  {
   "cell_type": "code",
   "execution_count": 49,
   "metadata": {},
   "outputs": [
    {
     "name": "stdout",
     "output_type": "stream",
     "text": [
      "S3 bucket path: s3://sagemaker-us-west-2-351033349862/\n",
      "AWS region: us-west-2\n"
     ]
    }
   ],
   "source": [
    "sage_session = sagemaker.session.Session()\n",
    "s3_bucket = sage_session.default_bucket()  \n",
    "s3_output_path = 's3://{}/'.format(s3_bucket)\n",
    "print(\"S3 bucket path: {}\".format(s3_output_path))\n",
    "aws_region = sage_session.boto_region_name\n",
    "print(\"AWS region: {}\".format(aws_region))"
   ]
  },
  {
   "cell_type": "markdown",
   "metadata": {},
   "source": [
    "**PLEASE** save this file right now using the following naming convention: `NUMBER_FOR_SORTING-YOUR_INITIALS-SHORT_DESCRIPTION`, e.g. `1.0-fw-initial-data-exploration`. Use the number to order the file within the directory according to its usage."
   ]
  },
  {
   "cell_type": "code",
   "execution_count": 50,
   "metadata": {},
   "outputs": [],
   "source": [
    "# run in local mode?\n",
    "local_mode = True\n",
    "\n",
    "if local_mode:\n",
    "    instance_type = 'local'\n",
    "else:\n",
    "    instance_type = \"ml.c5.2xlarge\""
   ]
  },
  {
   "cell_type": "code",
   "execution_count": 51,
   "metadata": {},
   "outputs": [
    {
     "name": "stdout",
     "output_type": "stream",
     "text": [
      "Using IAM role arn: arn:aws:iam::351033349862:role/service-role/AmazonSageMaker-ExecutionRole-20200227T101932\n"
     ]
    }
   ],
   "source": [
    "try:\n",
    "    role = sagemaker.get_execution_role()\n",
    "except:\n",
    "    role = get_execution_role()\n",
    "\n",
    "print(\"Using IAM role arn: {}\".format(role))"
   ]
  },
  {
   "cell_type": "code",
   "execution_count": 52,
   "metadata": {},
   "outputs": [
    {
     "data": {
      "text/plain": [
       "'/home/ec2-user/SageMaker/space_bandits_deployment/data/preprocessed/stock_contexts_rewards.csv'"
      ]
     },
     "execution_count": 52,
     "metadata": {},
     "output_type": "execute_result"
    }
   ],
   "source": [
    "financial_data_path = Path('../data/preprocessed/stock_contexts_rewards.csv').resolve()\n",
    "financial_data_path_str = financial_data_path.as_posix()\n",
    "financial_data_path_str"
   ]
  },
  {
   "cell_type": "code",
   "execution_count": 53,
   "metadata": {},
   "outputs": [],
   "source": [
    "financial_data_s3_path = sage_session.upload_data(path=financial_data_path_str, bucket=s3_bucket)"
   ]
  },
  {
   "cell_type": "code",
   "execution_count": 54,
   "metadata": {},
   "outputs": [],
   "source": [
    "source_dir = Path('../src/space_bandits_deployment').resolve().as_posix()\n",
    "train_script = Path('../src/space_bandits_deployment/train.py').resolve().as_posix()"
   ]
  },
  {
   "cell_type": "code",
   "execution_count": 55,
   "metadata": {},
   "outputs": [],
   "source": [
    "hyperparameters = {\"action_dim\": 8, \"context_dim\":21}"
   ]
  },
  {
   "cell_type": "code",
   "execution_count": 56,
   "metadata": {},
   "outputs": [],
   "source": [
    "estimator = PyTorch(entry_point=\"train.py\",source_dir=source_dir,role=role,\n",
    "                        train_instance_type=instance_type,\n",
    "\n",
    "                    train_instance_count=1,\n",
    "                        output_path=s3_output_path,framework_version='1.3.1',hyperparameters=hyperparameters)"
   ]
  },
  {
   "cell_type": "code",
   "execution_count": 57,
   "metadata": {},
   "outputs": [
    {
     "name": "stdout",
     "output_type": "stream",
     "text": [
      "INFO:sagemaker:Creating training-job with name: pytorch-training-2020-03-05-03-06-36-011\n",
      "INFO:sagemaker.local.image:No AWS credentials found in session but credentials from EC2 Metadata Service are available.\n",
      "INFO:sagemaker.local.image:docker compose file: \n",
      "networks:\n",
      "  sagemaker-local:\n",
      "    name: sagemaker-local\n",
      "services:\n",
      "  algo-1-dmk7t:\n",
      "    command: train\n",
      "    environment:\n",
      "    - AWS_REGION=us-west-2\n",
      "    - TRAINING_JOB_NAME=pytorch-training-2020-03-05-03-06-36-011\n",
      "    image: 763104351884.dkr.ecr.us-west-2.amazonaws.com/pytorch-training:1.3.1-cpu-py3\n",
      "    networks:\n",
      "      sagemaker-local:\n",
      "        aliases:\n",
      "        - algo-1-dmk7t\n",
      "    stdin_open: true\n",
      "    tty: true\n",
      "    volumes:\n",
      "    - /tmp/tmpu411gj83/algo-1-dmk7t/output:/opt/ml/output\n",
      "    - /tmp/tmpu411gj83/algo-1-dmk7t/output/data:/opt/ml/output/data\n",
      "    - /tmp/tmpu411gj83/algo-1-dmk7t/input:/opt/ml/input\n",
      "    - /tmp/tmpu411gj83/model:/opt/ml/model\n",
      "    - /tmp/tmpb66zspe_:/opt/ml/input/data/train\n",
      "version: '2.3'\n",
      "\n",
      "INFO:sagemaker.local.image:docker command: docker-compose -f /tmp/tmpu411gj83/docker-compose.yaml up --build --abort-on-container-exit\n",
      "Creating tmpu411gj83_algo-1-dmk7t_1 ... \n",
      "\u001b[1BAttaching to tmpu411gj83_algo-1-dmk7t_12mdone\u001b[0m\n",
      "\u001b[36malgo-1-dmk7t_1  |\u001b[0m 2020-03-05 03:06:38,953 sagemaker-containers INFO     Imported framework sagemaker_pytorch_container.training\n",
      "\u001b[36malgo-1-dmk7t_1  |\u001b[0m 2020-03-05 03:06:38,957 sagemaker-containers INFO     No GPUs detected (normal if no gpus installed)\n",
      "\u001b[36malgo-1-dmk7t_1  |\u001b[0m 2020-03-05 03:06:38,971 sagemaker_pytorch_container.training INFO     Block until all host DNS lookups succeed.\n",
      "\u001b[36malgo-1-dmk7t_1  |\u001b[0m 2020-03-05 03:06:38,975 sagemaker_pytorch_container.training INFO     Invoking user training script.\n",
      "\u001b[36malgo-1-dmk7t_1  |\u001b[0m 2020-03-05 03:06:39,129 sagemaker-containers INFO     Module default_user_module_name does not provide a setup.py. \n",
      "\u001b[36malgo-1-dmk7t_1  |\u001b[0m Generating setup.py\n",
      "\u001b[36malgo-1-dmk7t_1  |\u001b[0m 2020-03-05 03:06:39,130 sagemaker-containers INFO     Generating setup.cfg\n",
      "\u001b[36malgo-1-dmk7t_1  |\u001b[0m 2020-03-05 03:06:39,130 sagemaker-containers INFO     Generating MANIFEST.in\n",
      "\u001b[36malgo-1-dmk7t_1  |\u001b[0m 2020-03-05 03:06:39,130 sagemaker-containers INFO     Installing module with the following command:\n",
      "\u001b[36malgo-1-dmk7t_1  |\u001b[0m /opt/conda/bin/python -m pip install . -r requirements.txt\n",
      "\u001b[36malgo-1-dmk7t_1  |\u001b[0m Processing /tmp/tmpy7ezv31d/module_dir\n",
      "\u001b[36malgo-1-dmk7t_1  |\u001b[0m Collecting space_bandits>=0.0.992\n",
      "\u001b[36malgo-1-dmk7t_1  |\u001b[0m   Downloading space-bandits-0.0.992.tar.gz (12 kB)\n",
      "\u001b[36malgo-1-dmk7t_1  |\u001b[0m Requirement already satisfied: torch in /opt/conda/lib/python3.6/site-packages (from space_bandits>=0.0.992->-r requirements.txt (line 1)) (1.3.1)\n",
      "\u001b[36malgo-1-dmk7t_1  |\u001b[0m Requirement already satisfied: numpy in /opt/conda/lib/python3.6/site-packages (from space_bandits>=0.0.992->-r requirements.txt (line 1)) (1.16.4)\n",
      "\u001b[36malgo-1-dmk7t_1  |\u001b[0m Requirement already satisfied: scipy in /opt/conda/lib/python3.6/site-packages (from space_bandits>=0.0.992->-r requirements.txt (line 1)) (1.2.2)\n",
      "\u001b[36malgo-1-dmk7t_1  |\u001b[0m Requirement already satisfied: pandas in /opt/conda/lib/python3.6/site-packages (from space_bandits>=0.0.992->-r requirements.txt (line 1)) (0.25.0)\n",
      "\u001b[36malgo-1-dmk7t_1  |\u001b[0m Requirement already satisfied: cython in /opt/conda/lib/python3.6/site-packages (from space_bandits>=0.0.992->-r requirements.txt (line 1)) (0.29.12)\n",
      "\u001b[36malgo-1-dmk7t_1  |\u001b[0m Requirement already satisfied: scikit-learn in /opt/conda/lib/python3.6/site-packages (from space_bandits>=0.0.992->-r requirements.txt (line 1)) (0.21.2)\n",
      "\u001b[36malgo-1-dmk7t_1  |\u001b[0m Requirement already satisfied: python-dateutil>=2.6.1 in /opt/conda/lib/python3.6/site-packages (from pandas->space_bandits>=0.0.992->-r requirements.txt (line 1)) (2.8.1)\n",
      "\u001b[36malgo-1-dmk7t_1  |\u001b[0m Requirement already satisfied: pytz>=2017.2 in /opt/conda/lib/python3.6/site-packages (from pandas->space_bandits>=0.0.992->-r requirements.txt (line 1)) (2019.3)\n",
      "\u001b[36malgo-1-dmk7t_1  |\u001b[0m Requirement already satisfied: joblib>=0.11 in /opt/conda/lib/python3.6/site-packages (from scikit-learn->space_bandits>=0.0.992->-r requirements.txt (line 1)) (0.14.1)\n",
      "\u001b[36malgo-1-dmk7t_1  |\u001b[0m Requirement already satisfied: six>=1.5 in /opt/conda/lib/python3.6/site-packages (from python-dateutil>=2.6.1->pandas->space_bandits>=0.0.992->-r requirements.txt (line 1)) (1.12.0)\n",
      "\u001b[36malgo-1-dmk7t_1  |\u001b[0m Building wheels for collected packages: space-bandits, default-user-module-name\n",
      "\u001b[36malgo-1-dmk7t_1  |\u001b[0m   Building wheel for space-bandits (setup.py) ... \u001b[?25ldone\n",
      "\u001b[36malgo-1-dmk7t_1  |\u001b[0m \u001b[?25h  Created wheel for space-bandits: filename=space_bandits-0.0.992-py3-none-any.whl size=17438 sha256=ac9da620815d93df6b18353694958fc31d7d05df6eacc410110d3a6952977419\n",
      "\u001b[36malgo-1-dmk7t_1  |\u001b[0m   Stored in directory: /root/.cache/pip/wheels/84/16/fc/6c9e1caf97c9a05982c7d620cd6c55693e38098e2092818f6b\n",
      "\u001b[36malgo-1-dmk7t_1  |\u001b[0m   Building wheel for default-user-module-name (setup.py) ... \u001b[?25ldone\n",
      "\u001b[36malgo-1-dmk7t_1  |\u001b[0m \u001b[?25h  Created wheel for default-user-module-name: filename=default_user_module_name-1.0.0-py2.py3-none-any.whl size=18024 sha256=25e3a867ed2102df1ba3792809eea56cb34d4c3e18c8e8fa9d64793ae40bcd15\n",
      "\u001b[36malgo-1-dmk7t_1  |\u001b[0m   Stored in directory: /tmp/pip-ephem-wheel-cache-e07rdlp0/wheels/31/c2/25/3c348708c2f738656a3b7252f9dd6b84ffbc2eae6caa7c28ae\n",
      "\u001b[36malgo-1-dmk7t_1  |\u001b[0m Successfully built space-bandits default-user-module-name\n",
      "\u001b[36malgo-1-dmk7t_1  |\u001b[0m Installing collected packages: space-bandits, default-user-module-name\n",
      "\u001b[36malgo-1-dmk7t_1  |\u001b[0m Successfully installed default-user-module-name-1.0.0 space-bandits-0.0.992\n",
      "\u001b[36malgo-1-dmk7t_1  |\u001b[0m \u001b[33mWARNING: You are using pip version 20.0.1; however, version 20.0.2 is available.\n",
      "\u001b[36malgo-1-dmk7t_1  |\u001b[0m You should consider upgrading via the '/opt/conda/bin/python -m pip install --upgrade pip' command.\u001b[0m\n",
      "\u001b[36malgo-1-dmk7t_1  |\u001b[0m 2020-03-05 03:06:42,231 sagemaker-containers INFO     No GPUs detected (normal if no gpus installed)\n",
      "\u001b[36malgo-1-dmk7t_1  |\u001b[0m 2020-03-05 03:06:42,248 sagemaker-containers INFO     No GPUs detected (normal if no gpus installed)\n",
      "\u001b[36malgo-1-dmk7t_1  |\u001b[0m 2020-03-05 03:06:42,265 sagemaker-containers INFO     No GPUs detected (normal if no gpus installed)\n",
      "\u001b[36malgo-1-dmk7t_1  |\u001b[0m 2020-03-05 03:06:42,278 sagemaker-containers INFO     Invoking user script\n",
      "\u001b[36malgo-1-dmk7t_1  |\u001b[0m \n",
      "\u001b[36malgo-1-dmk7t_1  |\u001b[0m Training Env:\n",
      "\u001b[36malgo-1-dmk7t_1  |\u001b[0m \n",
      "\u001b[36malgo-1-dmk7t_1  |\u001b[0m {\n",
      "\u001b[36malgo-1-dmk7t_1  |\u001b[0m     \"additional_framework_parameters\": {},\n",
      "\u001b[36malgo-1-dmk7t_1  |\u001b[0m     \"channel_input_dirs\": {\n",
      "\u001b[36malgo-1-dmk7t_1  |\u001b[0m         \"train\": \"/opt/ml/input/data/train\"\n",
      "\u001b[36malgo-1-dmk7t_1  |\u001b[0m     },\n",
      "\u001b[36malgo-1-dmk7t_1  |\u001b[0m     \"current_host\": \"algo-1-dmk7t\",\n",
      "\u001b[36malgo-1-dmk7t_1  |\u001b[0m     \"framework_module\": \"sagemaker_pytorch_container.training:main\",\n",
      "\u001b[36malgo-1-dmk7t_1  |\u001b[0m     \"hosts\": [\n",
      "\u001b[36malgo-1-dmk7t_1  |\u001b[0m         \"algo-1-dmk7t\"\n",
      "\u001b[36malgo-1-dmk7t_1  |\u001b[0m     ],\n",
      "\u001b[36malgo-1-dmk7t_1  |\u001b[0m     \"hyperparameters\": {\n",
      "\u001b[36malgo-1-dmk7t_1  |\u001b[0m         \"action_dim\": 8,\n",
      "\u001b[36malgo-1-dmk7t_1  |\u001b[0m         \"context_dim\": 21\n",
      "\u001b[36malgo-1-dmk7t_1  |\u001b[0m     },\n",
      "\u001b[36malgo-1-dmk7t_1  |\u001b[0m     \"input_config_dir\": \"/opt/ml/input/config\",\n",
      "\u001b[36malgo-1-dmk7t_1  |\u001b[0m     \"input_data_config\": {\n",
      "\u001b[36malgo-1-dmk7t_1  |\u001b[0m         \"train\": {\n",
      "\u001b[36malgo-1-dmk7t_1  |\u001b[0m             \"TrainingInputMode\": \"File\"\n",
      "\u001b[36malgo-1-dmk7t_1  |\u001b[0m         }\n",
      "\u001b[36malgo-1-dmk7t_1  |\u001b[0m     },\n",
      "\u001b[36malgo-1-dmk7t_1  |\u001b[0m     \"input_dir\": \"/opt/ml/input\",\n",
      "\u001b[36malgo-1-dmk7t_1  |\u001b[0m     \"is_master\": true,\n",
      "\u001b[36malgo-1-dmk7t_1  |\u001b[0m     \"job_name\": \"pytorch-training-2020-03-05-03-06-36-011\",\n",
      "\u001b[36malgo-1-dmk7t_1  |\u001b[0m     \"log_level\": 20,\n",
      "\u001b[36malgo-1-dmk7t_1  |\u001b[0m     \"master_hostname\": \"algo-1-dmk7t\",\n",
      "\u001b[36malgo-1-dmk7t_1  |\u001b[0m     \"model_dir\": \"/opt/ml/model\",\n",
      "\u001b[36malgo-1-dmk7t_1  |\u001b[0m     \"module_dir\": \"s3://sagemaker-us-west-2-351033349862/pytorch-training-2020-03-05-03-06-36-011/source/sourcedir.tar.gz\",\n",
      "\u001b[36malgo-1-dmk7t_1  |\u001b[0m     \"module_name\": \"train\",\n",
      "\u001b[36malgo-1-dmk7t_1  |\u001b[0m     \"network_interface_name\": \"eth0\",\n",
      "\u001b[36malgo-1-dmk7t_1  |\u001b[0m     \"num_cpus\": 2,\n",
      "\u001b[36malgo-1-dmk7t_1  |\u001b[0m     \"num_gpus\": 0,\n",
      "\u001b[36malgo-1-dmk7t_1  |\u001b[0m     \"output_data_dir\": \"/opt/ml/output/data\",\n",
      "\u001b[36malgo-1-dmk7t_1  |\u001b[0m     \"output_dir\": \"/opt/ml/output\",\n",
      "\u001b[36malgo-1-dmk7t_1  |\u001b[0m     \"output_intermediate_dir\": \"/opt/ml/output/intermediate\",\n",
      "\u001b[36malgo-1-dmk7t_1  |\u001b[0m     \"resource_config\": {\n",
      "\u001b[36malgo-1-dmk7t_1  |\u001b[0m         \"current_host\": \"algo-1-dmk7t\",\n",
      "\u001b[36malgo-1-dmk7t_1  |\u001b[0m         \"hosts\": [\n",
      "\u001b[36malgo-1-dmk7t_1  |\u001b[0m             \"algo-1-dmk7t\"\n",
      "\u001b[36malgo-1-dmk7t_1  |\u001b[0m         ]\n",
      "\u001b[36malgo-1-dmk7t_1  |\u001b[0m     },\n",
      "\u001b[36malgo-1-dmk7t_1  |\u001b[0m     \"user_entry_point\": \"train.py\"\n",
      "\u001b[36malgo-1-dmk7t_1  |\u001b[0m }\n",
      "\u001b[36malgo-1-dmk7t_1  |\u001b[0m \n",
      "\u001b[36malgo-1-dmk7t_1  |\u001b[0m Environment variables:\n",
      "\u001b[36malgo-1-dmk7t_1  |\u001b[0m \n",
      "\u001b[36malgo-1-dmk7t_1  |\u001b[0m SM_HOSTS=[\"algo-1-dmk7t\"]\n",
      "\u001b[36malgo-1-dmk7t_1  |\u001b[0m SM_NETWORK_INTERFACE_NAME=eth0\n",
      "\u001b[36malgo-1-dmk7t_1  |\u001b[0m SM_HPS={\"action_dim\":8,\"context_dim\":21}\n",
      "\u001b[36malgo-1-dmk7t_1  |\u001b[0m SM_USER_ENTRY_POINT=train.py\n",
      "\u001b[36malgo-1-dmk7t_1  |\u001b[0m SM_FRAMEWORK_PARAMS={}\n",
      "\u001b[36malgo-1-dmk7t_1  |\u001b[0m SM_RESOURCE_CONFIG={\"current_host\":\"algo-1-dmk7t\",\"hosts\":[\"algo-1-dmk7t\"]}\n",
      "\u001b[36malgo-1-dmk7t_1  |\u001b[0m SM_INPUT_DATA_CONFIG={\"train\":{\"TrainingInputMode\":\"File\"}}\n",
      "\u001b[36malgo-1-dmk7t_1  |\u001b[0m SM_OUTPUT_DATA_DIR=/opt/ml/output/data\n",
      "\u001b[36malgo-1-dmk7t_1  |\u001b[0m SM_CHANNELS=[\"train\"]\n",
      "\u001b[36malgo-1-dmk7t_1  |\u001b[0m SM_CURRENT_HOST=algo-1-dmk7t\n",
      "\u001b[36malgo-1-dmk7t_1  |\u001b[0m SM_MODULE_NAME=train\n",
      "\u001b[36malgo-1-dmk7t_1  |\u001b[0m SM_LOG_LEVEL=20\n",
      "\u001b[36malgo-1-dmk7t_1  |\u001b[0m SM_FRAMEWORK_MODULE=sagemaker_pytorch_container.training:main\n",
      "\u001b[36malgo-1-dmk7t_1  |\u001b[0m SM_INPUT_DIR=/opt/ml/input\n",
      "\u001b[36malgo-1-dmk7t_1  |\u001b[0m SM_INPUT_CONFIG_DIR=/opt/ml/input/config\n",
      "\u001b[36malgo-1-dmk7t_1  |\u001b[0m SM_OUTPUT_DIR=/opt/ml/output\n",
      "\u001b[36malgo-1-dmk7t_1  |\u001b[0m SM_NUM_CPUS=2\n",
      "\u001b[36malgo-1-dmk7t_1  |\u001b[0m SM_NUM_GPUS=0\n",
      "\u001b[36malgo-1-dmk7t_1  |\u001b[0m SM_MODEL_DIR=/opt/ml/model\n",
      "\u001b[36malgo-1-dmk7t_1  |\u001b[0m SM_MODULE_DIR=s3://sagemaker-us-west-2-351033349862/pytorch-training-2020-03-05-03-06-36-011/source/sourcedir.tar.gz\n",
      "\u001b[36malgo-1-dmk7t_1  |\u001b[0m SM_TRAINING_ENV={\"additional_framework_parameters\":{},\"channel_input_dirs\":{\"train\":\"/opt/ml/input/data/train\"},\"current_host\":\"algo-1-dmk7t\",\"framework_module\":\"sagemaker_pytorch_container.training:main\",\"hosts\":[\"algo-1-dmk7t\"],\"hyperparameters\":{\"action_dim\":8,\"context_dim\":21},\"input_config_dir\":\"/opt/ml/input/config\",\"input_data_config\":{\"train\":{\"TrainingInputMode\":\"File\"}},\"input_dir\":\"/opt/ml/input\",\"is_master\":true,\"job_name\":\"pytorch-training-2020-03-05-03-06-36-011\",\"log_level\":20,\"master_hostname\":\"algo-1-dmk7t\",\"model_dir\":\"/opt/ml/model\",\"module_dir\":\"s3://sagemaker-us-west-2-351033349862/pytorch-training-2020-03-05-03-06-36-011/source/sourcedir.tar.gz\",\"module_name\":\"train\",\"network_interface_name\":\"eth0\",\"num_cpus\":2,\"num_gpus\":0,\"output_data_dir\":\"/opt/ml/output/data\",\"output_dir\":\"/opt/ml/output\",\"output_intermediate_dir\":\"/opt/ml/output/intermediate\",\"resource_config\":{\"current_host\":\"algo-1-dmk7t\",\"hosts\":[\"algo-1-dmk7t\"]},\"user_entry_point\":\"train.py\"}\n",
      "\u001b[36malgo-1-dmk7t_1  |\u001b[0m SM_USER_ARGS=[\"--action_dim\",\"8\",\"--context_dim\",\"21\"]\n",
      "\u001b[36malgo-1-dmk7t_1  |\u001b[0m SM_OUTPUT_INTERMEDIATE_DIR=/opt/ml/output/intermediate\n",
      "\u001b[36malgo-1-dmk7t_1  |\u001b[0m SM_CHANNEL_TRAIN=/opt/ml/input/data/train\n",
      "\u001b[36malgo-1-dmk7t_1  |\u001b[0m SM_HP_ACTION_DIM=8\n",
      "\u001b[36malgo-1-dmk7t_1  |\u001b[0m SM_HP_CONTEXT_DIM=21\n",
      "\u001b[36malgo-1-dmk7t_1  |\u001b[0m PYTHONPATH=/opt/ml/code:/opt/conda/bin:/opt/conda/lib/python36.zip:/opt/conda/lib/python3.6:/opt/conda/lib/python3.6/lib-dynload:/opt/conda/lib/python3.6/site-packages\n",
      "\u001b[36malgo-1-dmk7t_1  |\u001b[0m \n",
      "\u001b[36malgo-1-dmk7t_1  |\u001b[0m Invoking script with the following command:\n",
      "\u001b[36malgo-1-dmk7t_1  |\u001b[0m \n",
      "\u001b[36malgo-1-dmk7t_1  |\u001b[0m /opt/conda/bin/python train.py --action_dim 8 --context_dim 21\n",
      "\u001b[36malgo-1-dmk7t_1  |\u001b[0m \n",
      "\u001b[36malgo-1-dmk7t_1  |\u001b[0m \n",
      "\u001b[36malgo-1-dmk7t_1  |\u001b[0m Training neural_model-bnn for 100 steps...\n",
      "\u001b[36malgo-1-dmk7t_1  |\u001b[0m Training neural_model-bnn for 100 steps...\n",
      "\u001b[36malgo-1-dmk7t_1  |\u001b[0m Training neural_model-bnn for 100 steps...\n",
      "\u001b[36malgo-1-dmk7t_1  |\u001b[0m Training neural_model-bnn for 100 steps...\n",
      "\u001b[36malgo-1-dmk7t_1  |\u001b[0m Training neural_model-bnn for 100 steps...\n",
      "\u001b[36malgo-1-dmk7t_1  |\u001b[0m Training neural_model-bnn for 100 steps...\n",
      "\u001b[36malgo-1-dmk7t_1  |\u001b[0m Training neural_model-bnn for 100 steps...\n",
      "\u001b[36malgo-1-dmk7t_1  |\u001b[0m Training neural_model-bnn for 100 steps...\n",
      "\u001b[36malgo-1-dmk7t_1  |\u001b[0m Training neural_model-bnn for 100 steps...\n",
      "\u001b[36malgo-1-dmk7t_1  |\u001b[0m Training neural_model-bnn for 100 steps...\n",
      "\u001b[36malgo-1-dmk7t_1  |\u001b[0m Training neural_model-bnn for 100 steps...\n",
      "\u001b[36malgo-1-dmk7t_1  |\u001b[0m Training neural_model-bnn for 100 steps...\n",
      "\u001b[36malgo-1-dmk7t_1  |\u001b[0m Training neural_model-bnn for 100 steps...\n",
      "\u001b[36malgo-1-dmk7t_1  |\u001b[0m Training neural_model-bnn for 100 steps...\n",
      "\u001b[36malgo-1-dmk7t_1  |\u001b[0m Training neural_model-bnn for 100 steps...\n",
      "\u001b[36malgo-1-dmk7t_1  |\u001b[0m Training neural_model-bnn for 100 steps...\n",
      "\u001b[36malgo-1-dmk7t_1  |\u001b[0m Training neural_model-bnn for 100 steps...\n",
      "\u001b[36malgo-1-dmk7t_1  |\u001b[0m Training neural_model-bnn for 100 steps...\n",
      "\u001b[36malgo-1-dmk7t_1  |\u001b[0m Training neural_model-bnn for 100 steps...\n",
      "\u001b[36malgo-1-dmk7t_1  |\u001b[0m Training neural_model-bnn for 100 steps...\n",
      "\u001b[36malgo-1-dmk7t_1  |\u001b[0m Training neural_model-bnn for 100 steps...\n",
      "\u001b[36malgo-1-dmk7t_1  |\u001b[0m Training neural_model-bnn for 100 steps...\n",
      "\u001b[36malgo-1-dmk7t_1  |\u001b[0m Training neural_model-bnn for 100 steps...\n",
      "\u001b[36malgo-1-dmk7t_1  |\u001b[0m Training neural_model-bnn for 100 steps...\n",
      "\u001b[36malgo-1-dmk7t_1  |\u001b[0m Training neural_model-bnn for 100 steps...\n",
      "\u001b[36malgo-1-dmk7t_1  |\u001b[0m Training neural_model-bnn for 100 steps...\n",
      "\u001b[36malgo-1-dmk7t_1  |\u001b[0m Training neural_model-bnn for 100 steps...\n",
      "\u001b[36malgo-1-dmk7t_1  |\u001b[0m Training neural_model-bnn for 100 steps...\n",
      "\u001b[36malgo-1-dmk7t_1  |\u001b[0m Training neural_model-bnn for 100 steps...\n",
      "\u001b[36malgo-1-dmk7t_1  |\u001b[0m Training neural_model-bnn for 100 steps...\n",
      "\u001b[36malgo-1-dmk7t_1  |\u001b[0m Training neural_model-bnn for 100 steps...\n",
      "\u001b[36malgo-1-dmk7t_1  |\u001b[0m Training neural_model-bnn for 100 steps...\n",
      "\u001b[36malgo-1-dmk7t_1  |\u001b[0m Training neural_model-bnn for 100 steps...\n",
      "\u001b[36malgo-1-dmk7t_1  |\u001b[0m Training neural_model-bnn for 100 steps...\n",
      "\u001b[36malgo-1-dmk7t_1  |\u001b[0m Training neural_model-bnn for 100 steps...\n",
      "\u001b[36malgo-1-dmk7t_1  |\u001b[0m Training neural_model-bnn for 100 steps...\n",
      "\u001b[36malgo-1-dmk7t_1  |\u001b[0m Training neural_model-bnn for 100 steps...\n",
      "\u001b[36malgo-1-dmk7t_1  |\u001b[0m Training neural_model-bnn for 100 steps...\n",
      "\u001b[36malgo-1-dmk7t_1  |\u001b[0m Training neural_model-bnn for 100 steps...\n",
      "\u001b[36malgo-1-dmk7t_1  |\u001b[0m Training neural_model-bnn for 100 steps...\n",
      "\u001b[36malgo-1-dmk7t_1  |\u001b[0m Training neural_model-bnn for 100 steps...\n",
      "\u001b[36malgo-1-dmk7t_1  |\u001b[0m Training neural_model-bnn for 100 steps...\n",
      "\u001b[36malgo-1-dmk7t_1  |\u001b[0m Training neural_model-bnn for 100 steps...\n",
      "\u001b[36malgo-1-dmk7t_1  |\u001b[0m Training neural_model-bnn for 100 steps...\n",
      "\u001b[36malgo-1-dmk7t_1  |\u001b[0m Training neural_model-bnn for 100 steps...\n",
      "\u001b[36malgo-1-dmk7t_1  |\u001b[0m Training neural_model-bnn for 100 steps...\n",
      "\u001b[36malgo-1-dmk7t_1  |\u001b[0m Training neural_model-bnn for 100 steps...\n",
      "\u001b[36malgo-1-dmk7t_1  |\u001b[0m Training neural_model-bnn for 100 steps...\n",
      "\u001b[36malgo-1-dmk7t_1  |\u001b[0m Training neural_model-bnn for 100 steps...\n",
      "\u001b[36malgo-1-dmk7t_1  |\u001b[0m Training neural_model-bnn for 100 steps...\n",
      "\u001b[36malgo-1-dmk7t_1  |\u001b[0m Training neural_model-bnn for 100 steps...\n",
      "\u001b[36malgo-1-dmk7t_1  |\u001b[0m Training neural_model-bnn for 100 steps...\n",
      "\u001b[36malgo-1-dmk7t_1  |\u001b[0m Training neural_model-bnn for 100 steps...\n",
      "\u001b[36malgo-1-dmk7t_1  |\u001b[0m Training neural_model-bnn for 100 steps...\n",
      "\u001b[36malgo-1-dmk7t_1  |\u001b[0m Training neural_model-bnn for 100 steps...\n",
      "\u001b[36malgo-1-dmk7t_1  |\u001b[0m Training neural_model-bnn for 100 steps...\n",
      "\u001b[36malgo-1-dmk7t_1  |\u001b[0m Training neural_model-bnn for 100 steps...\n",
      "\u001b[36malgo-1-dmk7t_1  |\u001b[0m Training neural_model-bnn for 100 steps...\n",
      "\u001b[36malgo-1-dmk7t_1  |\u001b[0m Training neural_model-bnn for 100 steps...\n",
      "\u001b[36malgo-1-dmk7t_1  |\u001b[0m Training neural_model-bnn for 100 steps...\n",
      "\u001b[36malgo-1-dmk7t_1  |\u001b[0m Training neural_model-bnn for 100 steps...\n",
      "\u001b[36malgo-1-dmk7t_1  |\u001b[0m Training neural_model-bnn for 100 steps...\n",
      "\u001b[36malgo-1-dmk7t_1  |\u001b[0m Training neural_model-bnn for 100 steps...\n",
      "\u001b[36malgo-1-dmk7t_1  |\u001b[0m Training neural_model-bnn for 100 steps...\n",
      "\u001b[36malgo-1-dmk7t_1  |\u001b[0m Training neural_model-bnn for 100 steps...\n",
      "\u001b[36malgo-1-dmk7t_1  |\u001b[0m Training neural_model-bnn for 100 steps...\n",
      "\u001b[36malgo-1-dmk7t_1  |\u001b[0m Training neural_model-bnn for 100 steps...\n",
      "\u001b[36malgo-1-dmk7t_1  |\u001b[0m Training neural_model-bnn for 100 steps...\n",
      "\u001b[36malgo-1-dmk7t_1  |\u001b[0m Training neural_model-bnn for 100 steps...\n",
      "\u001b[36malgo-1-dmk7t_1  |\u001b[0m Training neural_model-bnn for 100 steps...\n",
      "\u001b[36malgo-1-dmk7t_1  |\u001b[0m Training neural_model-bnn for 100 steps...\n",
      "\u001b[36malgo-1-dmk7t_1  |\u001b[0m Training neural_model-bnn for 100 steps...\n",
      "\u001b[36malgo-1-dmk7t_1  |\u001b[0m Training neural_model-bnn for 100 steps...\n",
      "\u001b[36malgo-1-dmk7t_1  |\u001b[0m Training neural_model-bnn for 100 steps...\n",
      "\u001b[36malgo-1-dmk7t_1  |\u001b[0m 2020-03-05 03:08:08,159 sagemaker-containers INFO     Reporting training SUCCESS\n",
      "\u001b[36mtmpu411gj83_algo-1-dmk7t_1 exited with code 0\n",
      "\u001b[0mAborting on container exit...\n",
      "===== Job Complete =====\n"
     ]
    }
   ],
   "source": [
    "estimator.fit(inputs={'train': financial_data_s3_path})"
   ]
  },
  {
   "cell_type": "code",
   "execution_count": 11,
   "metadata": {},
   "outputs": [],
   "source": [
    "sage_session = sagemaker.local.LocalSession() if local_mode else sage_session\n"
   ]
  },
  {
   "cell_type": "code",
   "execution_count": 58,
   "metadata": {},
   "outputs": [
    {
     "data": {
      "text/plain": [
       "'pytorch-training-2020-03-05-03-06-36-011'"
      ]
     },
     "execution_count": 58,
     "metadata": {},
     "output_type": "execute_result"
    }
   ],
   "source": [
    "job_name = estimator.latest_training_job.job_name\n",
    "job_name"
   ]
  },
  {
   "cell_type": "code",
   "execution_count": 59,
   "metadata": {},
   "outputs": [],
   "source": [
    "if local_mode:\n",
    "    output_path_prefix = f\"{job_name}/output.tar.gz\"\n",
    "    model_path = f\"{job_name}/model.tar.gz\"\n",
    "    \n",
    "else:\n",
    "    output_path_prefix = f\"{job_name}/output/output.tar.gz\"\n",
    "    model_path = f\"{job_name}/output/model.tar.gz\"\n",
    "    \n",
    "#sage_session.download_data(path=\"../models/output\", bucket=s3_bucket, key_prefix=job_name)"
   ]
  },
  {
   "cell_type": "code",
   "execution_count": 60,
   "metadata": {},
   "outputs": [
    {
     "data": {
      "text/plain": [
       "'s3://sagemaker-us-west-2-351033349862/pytorch-training-2020-03-05-03-06-36-011/model.tar.gz'"
      ]
     },
     "execution_count": 60,
     "metadata": {},
     "output_type": "execute_result"
    }
   ],
   "source": [
    "model_path = os.path.join(s3_output_path,model_path)\n",
    "model_path"
   ]
  },
  {
   "cell_type": "code",
   "execution_count": 61,
   "metadata": {},
   "outputs": [],
   "source": [
    "instance_type = \"ml.m4.xlarge\""
   ]
  },
  {
   "cell_type": "code",
   "execution_count": 99,
   "metadata": {},
   "outputs": [],
   "source": [
    "model=PyTorchModel(model_data=model_path, name=\"model-v1\",\n",
    "    role=role, framework_version='1.3.1', source_dir=source_dir,entry_point='serve.py')"
   ]
  },
  {
   "cell_type": "code",
   "execution_count": 100,
   "metadata": {},
   "outputs": [
    {
     "name": "stdout",
     "output_type": "stream",
     "text": [
      "INFO:sagemaker:Creating model with name: model-v1\n",
      "INFO:sagemaker:Creating endpoint with name model-v1\n",
      "-------------------!"
     ]
    }
   ],
   "source": [
    "predictor = model.deploy(initial_instance_count=1, instance_type='ml.t2.medium')"
   ]
  },
  {
   "cell_type": "code",
   "execution_count": 204,
   "metadata": {},
   "outputs": [
    {
     "name": "stdout",
     "output_type": "stream",
     "text": [
      "INFO:sagemaker:Creating model with name: pytorch-training-2020-03-04-20-41-49-033\n",
      "INFO:sagemaker:Creating endpoint with name pytorch-training-2020-03-04-20-41-49-033\n",
      "INFO:sagemaker.local.image:serving\n",
      "INFO:sagemaker.local.image:creating hosting dir in /tmp/tmpqn6715a1\n",
      "INFO:sagemaker.local.image:No AWS credentials found in session but credentials from EC2 Metadata Service are available.\n",
      "INFO:sagemaker.local.image:docker compose file: \n",
      "networks:\n",
      "  sagemaker-local:\n",
      "    name: sagemaker-local\n",
      "services:\n",
      "  algo-1-dcoms:\n",
      "    command: serve\n",
      "    environment:\n",
      "    - SAGEMAKER_PROGRAM=train.py\n",
      "    - SAGEMAKER_SUBMIT_DIRECTORY=s3://sagemaker-us-west-2-351033349862/pytorch-training-2020-03-04-20-41-49-033/model.tar.gz\n",
      "    - SAGEMAKER_ENABLE_CLOUDWATCH_METRICS=false\n",
      "    - SAGEMAKER_CONTAINER_LOG_LEVEL=20\n",
      "    - SAGEMAKER_REGION=us-west-2\n",
      "    image: 763104351884.dkr.ecr.us-west-2.amazonaws.com/pytorch-inference:1.3.1-cpu-py3\n",
      "    networks:\n",
      "      sagemaker-local:\n",
      "        aliases:\n",
      "        - algo-1-dcoms\n",
      "    ports:\n",
      "    - 8080:8080\n",
      "    stdin_open: true\n",
      "    tty: true\n",
      "    volumes:\n",
      "    - /tmp/tmpl5sh7ohl:/opt/ml/model\n",
      "version: '2.3'\n",
      "\n",
      "INFO:sagemaker.local.image:docker command: docker-compose -f /tmp/tmpqn6715a1/docker-compose.yaml up --build --abort-on-container-exit\n",
      "INFO:sagemaker.local.entities:Checking if serving container is up, attempt: 5\n",
      "\u001b[36malgo-1-ufis7_1  |\u001b[0m 2020-03-04 20:44:07,254 [INFO ] pool-1-thread-11 ACCESS_LOG - /172.18.0.1:45506 \"GET /ping HTTP/1.1\" 200 1\n",
      "!"
     ]
    },
    {
     "name": "stderr",
     "output_type": "stream",
     "text": [
      "Exception in thread Thread-17:\n",
      "Traceback (most recent call last):\n",
      "  File \"/home/ec2-user/anaconda3/envs/pytorch_p36/lib/python3.6/site-packages/sagemaker/local/image.py\", line 614, in run\n",
      "    _stream_output(self.process)\n",
      "  File \"/home/ec2-user/anaconda3/envs/pytorch_p36/lib/python3.6/site-packages/sagemaker/local/image.py\", line 673, in _stream_output\n",
      "    raise RuntimeError(\"Process exited with code: %s\" % exit_code)\n",
      "RuntimeError: Process exited with code: 1\n",
      "\n",
      "During handling of the above exception, another exception occurred:\n",
      "\n",
      "Traceback (most recent call last):\n",
      "  File \"/home/ec2-user/anaconda3/envs/pytorch_p36/lib/python3.6/threading.py\", line 916, in _bootstrap_inner\n",
      "    self.run()\n",
      "  File \"/home/ec2-user/anaconda3/envs/pytorch_p36/lib/python3.6/site-packages/sagemaker/local/image.py\", line 619, in run\n",
      "    raise RuntimeError(msg)\n",
      "RuntimeError: Failed to run: ['docker-compose', '-f', '/tmp/tmpqn6715a1/docker-compose.yaml', 'up', '--build', '--abort-on-container-exit'], Process exited with code: 1\n",
      "\n"
     ]
    }
   ],
   "source": [
    "predictor = estimator.deploy(initial_instance_count=1, instance_type=instance_type,)\n"
   ]
  },
  {
   "cell_type": "code",
   "execution_count": 101,
   "metadata": {},
   "outputs": [],
   "source": [
    "df = pd.read_csv(financial_data_path)"
   ]
  },
  {
   "cell_type": "code",
   "execution_count": 102,
   "metadata": {},
   "outputs": [],
   "source": [
    "data = df.to_numpy()"
   ]
  },
  {
   "cell_type": "code",
   "execution_count": 103,
   "metadata": {},
   "outputs": [
    {
     "data": {
      "text/plain": [
       "(29,)"
      ]
     },
     "execution_count": 103,
     "metadata": {},
     "output_type": "execute_result"
    }
   ],
   "source": [
    "data[0].shape"
   ]
  },
  {
   "cell_type": "code",
   "execution_count": 109,
   "metadata": {},
   "outputs": [
    {
     "data": {
      "text/plain": [
       "1"
      ]
     },
     "execution_count": 109,
     "metadata": {},
     "output_type": "execute_result"
    }
   ],
   "source": [
    "np.argmax(data[0,21:])"
   ]
  },
  {
   "cell_type": "code",
   "execution_count": 104,
   "metadata": {},
   "outputs": [
    {
     "data": {
      "text/plain": [
       "array([-0.424286,  0.880005,  0.5     ,  0.289997,  0.82    ,  0.17    ,\n",
       "        0.370003,  0.07    ,  0.630001, -0.830001,  0.32    ,  0.119999,\n",
       "        0.24    ,  0.200001, -0.550003, -0.075   ,  0.059997, -0.130001,\n",
       "        0.610001,  0.059997,  0.470002])"
      ]
     },
     "execution_count": 104,
     "metadata": {},
     "output_type": "execute_result"
    }
   ],
   "source": [
    "context = data[0,:21]\n",
    "context"
   ]
  },
  {
   "cell_type": "code",
   "execution_count": 107,
   "metadata": {},
   "outputs": [
    {
     "data": {
      "text/plain": [
       "'application/x-npy'"
      ]
     },
     "execution_count": 107,
     "metadata": {},
     "output_type": "execute_result"
    }
   ],
   "source": [
    "predictor.content_type"
   ]
  },
  {
   "cell_type": "code",
   "execution_count": 26,
   "metadata": {},
   "outputs": [],
   "source": [
    "predictor.content_type=\"application/x-npy\""
   ]
  },
  {
   "cell_type": "code",
   "execution_count": 92,
   "metadata": {},
   "outputs": [],
   "source": [
    "from six import BytesIO\n",
    "def _npy_dumps(data):\n",
    "    \"\"\"\n",
    "    Serialized a numpy array into a stream of npy-formatted bytes.\n",
    "    \"\"\"\n",
    "    buffer = BytesIO()\n",
    "    np.save(buffer, data)\n",
    "    return buffer.getvalue()"
   ]
  },
  {
   "cell_type": "code",
   "execution_count": 93,
   "metadata": {},
   "outputs": [],
   "source": [
    "context_bytes = _npy_dumps(context)"
   ]
  },
  {
   "cell_type": "code",
   "execution_count": 108,
   "metadata": {},
   "outputs": [
    {
     "data": {
      "text/plain": [
       "(b\"\\x93NUMPY\\x01\\x00v\\x00{'descr': '<f8', 'fortran_order': False, 'shape': (21,), }                                                           \\n\\x80\\xa4\\x89w\\x80'\\xdb\\xbf\\x00 \\xea>\\x00)\\xec?\\x00\\x00\\x00\\x00\\x00\\x00\\xe0?\\x00\\n\\xbc\\x93O\\x8f\\xd2?\\x00\\n\\xd7\\xa3p=\\xea?\\x80\\xf5(\\\\\\x8f\\xc2\\xc5?\\x01\\x00\\x1b\\x10!\\xae\\xd7?\\x00Q\\xb8\\x1e\\x85\\xeb\\xb1?@Pn\\xdb\\xf7(\\xe4?\\x00\\xb7\\xd4A^\\x8f\\xea\\xbf\\x80\\x14\\xaeG\\xe1z\\xd4?\\xff{\\x8d$A\\xb8\\xbe?\\xff\\x1e\\x85\\xebQ\\xb8\\xce?\\x80j\\x15\\xfd\\xa1\\x99\\xc9?\\x00v6\\xe4\\x9f\\x99\\xe1\\xbf\\x0023333\\xb3\\xbf\\x00X\\xb7A\\xed\\xb7\\xae?\\x01A\\xb9m\\xdf\\xa3\\xc0\\xbf\\xc0\\xdf0\\xd1 \\x85\\xe3?\\x00X\\xb7A\\xed\\xb7\\xae?\\x00~\\xc3D\\x83\\x14\\xde?\",\n",
       " array([-0.424286,  0.880005,  0.5     ,  0.289997,  0.82    ,  0.17    ,\n",
       "         0.370003,  0.07    ,  0.630001, -0.830001,  0.32    ,  0.119999,\n",
       "         0.24    ,  0.200001, -0.550003, -0.075   ,  0.059997, -0.130001,\n",
       "         0.610001,  0.059997,  0.470002]))"
      ]
     },
     "execution_count": 108,
     "metadata": {},
     "output_type": "execute_result"
    }
   ],
   "source": [
    "context_bytes, context"
   ]
  },
  {
   "cell_type": "code",
   "execution_count": 106,
   "metadata": {},
   "outputs": [
    {
     "data": {
      "text/plain": [
       "array([1])"
      ]
     },
     "execution_count": 106,
     "metadata": {},
     "output_type": "execute_result"
    }
   ],
   "source": [
    "predictor.predict(context)"
   ]
  },
  {
   "cell_type": "code",
   "execution_count": 110,
   "metadata": {},
   "outputs": [
    {
     "name": "stdout",
     "output_type": "stream",
     "text": [
      "INFO:sagemaker:Deleting endpoint configuration with name: model-v1\n",
      "INFO:sagemaker:Deleting endpoint with name: model-v1\n"
     ]
    }
   ],
   "source": [
    "predictor.delete_endpoint()"
   ]
  },
  {
   "cell_type": "code",
   "execution_count": 111,
   "metadata": {},
   "outputs": [
    {
     "name": "stdout",
     "output_type": "stream",
     "text": [
      "INFO:sagemaker:Deleting model with name: model-v1\n"
     ]
    }
   ],
   "source": [
    "predictor.delete_model()"
   ]
  },
  {
   "cell_type": "code",
   "execution_count": null,
   "metadata": {},
   "outputs": [],
   "source": []
  }
 ],
 "metadata": {
  "kernelspec": {
   "display_name": "conda_pytorch_p36",
   "language": "python",
   "name": "conda_pytorch_p36"
  },
  "language_info": {
   "codemirror_mode": {
    "name": "ipython",
    "version": 3
   },
   "file_extension": ".py",
   "mimetype": "text/x-python",
   "name": "python",
   "nbconvert_exporter": "python",
   "pygments_lexer": "ipython3",
   "version": "3.6.5"
  },
  "pycharm": {
   "stem_cell": {
    "cell_type": "raw",
    "metadata": {
     "collapsed": false
    },
    "source": []
   }
  }
 },
 "nbformat": 4,
 "nbformat_minor": 4
}
