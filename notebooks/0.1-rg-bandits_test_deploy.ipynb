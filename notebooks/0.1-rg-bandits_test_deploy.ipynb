{
 "cells": [
  {
   "cell_type": "code",
   "execution_count": 48,
   "metadata": {},
   "outputs": [
    {
     "name": "stdout",
     "output_type": "stream",
     "text": [
      "The autoreload extension is already loaded. To reload it, use:\n",
      "  %reload_ext autoreload\n"
     ]
    }
   ],
   "source": [
    "import os\n",
    "import sys\n",
    "import math\n",
    "import logging\n",
    "from pathlib import Path\n",
    "import json\n",
    "import glob\n",
    "import re\n",
    "\n",
    "import numpy as np\n",
    "import scipy as sp\n",
    "import sklearn\n",
    "import statsmodels.api as sm\n",
    "from statsmodels.formula.api import ols\n",
    "\n",
    "%load_ext autoreload\n",
    "%autoreload 2\n",
    "\n",
    "import matplotlib as mpl\n",
    "import matplotlib.pyplot as plt\n",
    "%matplotlib inline\n",
    "%config InlineBackend.figure_format = 'retina'\n",
    "\n",
    "import seaborn as sns\n",
    "sns.set_context(\"poster\")\n",
    "sns.set(rc={'figure.figsize': (16, 9.)})\n",
    "sns.set_style(\"whitegrid\")\n",
    "\n",
    "import pandas as pd\n",
    "pd.set_option(\"display.max_rows\", 120)\n",
    "pd.set_option(\"display.max_columns\", 120)\n",
    "\n",
    "import sagemaker\n",
    "import boto3\n",
    "from IPython.display import HTML\n",
    "import time\n",
    "from time import gmtime, strftime\n",
    "#from misc import get_execution_role, wait_for_s3_object\n",
    "from sagemaker.pytorch import PyTorch, PyTorchModel\n",
    "logging.basicConfig(level=logging.INFO, stream=sys.stdout)"
   ]
  },
  {
   "cell_type": "code",
   "execution_count": 49,
   "metadata": {},
   "outputs": [
    {
     "name": "stdout",
     "output_type": "stream",
     "text": [
      "S3 bucket path: s3://sagemaker-us-west-2-351033349862/\n",
      "AWS region: us-west-2\n"
     ]
    }
   ],
   "source": [
    "sage_session = sagemaker.session.Session()\n",
    "s3_bucket = sage_session.default_bucket()  \n",
    "s3_output_path = 's3://{}/'.format(s3_bucket)\n",
    "print(\"S3 bucket path: {}\".format(s3_output_path))\n",
    "aws_region = sage_session.boto_region_name\n",
    "print(\"AWS region: {}\".format(aws_region))"
   ]
  },
  {
   "cell_type": "markdown",
   "metadata": {},
   "source": [
    "**PLEASE** save this file right now using the following naming convention: `NUMBER_FOR_SORTING-YOUR_INITIALS-SHORT_DESCRIPTION`, e.g. `1.0-fw-initial-data-exploration`. Use the number to order the file within the directory according to its usage."
   ]
  },
  {
   "cell_type": "code",
   "execution_count": 50,
   "metadata": {},
   "outputs": [],
   "source": [
    "# run in local mode?\n",
    "local_mode = True\n",
    "\n",
    "if local_mode:\n",
    "    instance_type = 'local'\n",
    "else:\n",
    "    instance_type = \"ml.c5.2xlarge\""
   ]
  },
  {
   "cell_type": "code",
   "execution_count": 13,
   "metadata": {},
   "outputs": [
    {
     "name": "stdout",
     "output_type": "stream",
     "text": [
      "Using IAM role arn: arn:aws:iam::351033349862:role/service-role/AmazonSageMaker-ExecutionRole-20200227T101932\n"
     ]
    }
   ],
   "source": [
    "try:\n",
    "    role = sagemaker.get_execution_role()\n",
    "except:\n",
    "    role = get_execution_role()\n",
    "\n",
    "print(\"Using IAM role arn: {}\".format(role))"
   ]
  },
  {
   "cell_type": "code",
   "execution_count": 34,
   "metadata": {},
   "outputs": [
    {
     "data": {
      "text/plain": [
       "'/home/ec2-user/SageMaker/space_bandits_deployment/data/preprocessed/stock_contexts_rewards.csv'"
      ]
     },
     "execution_count": 34,
     "metadata": {},
     "output_type": "execute_result"
    }
   ],
   "source": [
    "financial_data_path = Path('../data/preprocessed/stock_contexts_rewards.csv').resolve()\n",
    "financial_data_path_str = financial_data_path.as_posix()\n",
    "financial_data_path_str"
   ]
  },
  {
   "cell_type": "code",
   "execution_count": 35,
   "metadata": {},
   "outputs": [],
   "source": [
    "financial_data_s3_path = sage_session.upload_data(path=financial_data_path_str, bucket=s3_bucket)"
   ]
  },
  {
   "cell_type": "code",
   "execution_count": 52,
   "metadata": {},
   "outputs": [],
   "source": [
    "source_dir = Path('../src/space_bandits_deployment').resolve().as_posix()\n",
    "train_script = Path('../src/space_bandits_deployment/train.py').resolve().as_posix()"
   ]
  },
  {
   "cell_type": "code",
   "execution_count": 53,
   "metadata": {},
   "outputs": [],
   "source": [
    "hyperparameters = {\"action_dim\": 8, \"context_dim\":21}"
   ]
  },
  {
   "cell_type": "code",
   "execution_count": 179,
   "metadata": {},
   "outputs": [],
   "source": [
    "estimator = PyTorch(entry_point=\"train.py\",source_dir=source_dir,role=role,\n",
    "                        train_instance_type=instance_type,\n",
    "\n",
    "                    train_instance_count=1,\n",
    "                        output_path=s3_output_path,framework_version='1.3.1',hyperparameters=hyperparameters)"
   ]
  },
  {
   "cell_type": "code",
   "execution_count": 180,
   "metadata": {},
   "outputs": [
    {
     "name": "stdout",
     "output_type": "stream",
     "text": [
      "INFO:sagemaker:Creating training-job with name: pytorch-training-2020-03-04-20-04-20-388\n",
      "INFO:sagemaker.local.image:No AWS credentials found in session but credentials from EC2 Metadata Service are available.\n",
      "INFO:sagemaker.local.image:docker compose file: \n",
      "networks:\n",
      "  sagemaker-local:\n",
      "    name: sagemaker-local\n",
      "services:\n",
      "  algo-1-42rh5:\n",
      "    command: train\n",
      "    environment:\n",
      "    - AWS_REGION=us-west-2\n",
      "    - TRAINING_JOB_NAME=pytorch-training-2020-03-04-20-04-20-388\n",
      "    image: 763104351884.dkr.ecr.us-west-2.amazonaws.com/pytorch-training:1.3.1-cpu-py3\n",
      "    networks:\n",
      "      sagemaker-local:\n",
      "        aliases:\n",
      "        - algo-1-42rh5\n",
      "    stdin_open: true\n",
      "    tty: true\n",
      "    volumes:\n",
      "    - /tmp/tmpeewxrvxz/algo-1-42rh5/output/data:/opt/ml/output/data\n",
      "    - /tmp/tmpeewxrvxz/algo-1-42rh5/output:/opt/ml/output\n",
      "    - /tmp/tmpeewxrvxz/algo-1-42rh5/input:/opt/ml/input\n",
      "    - /tmp/tmpeewxrvxz/model:/opt/ml/model\n",
      "    - /tmp/tmpb7h_3s_h:/opt/ml/input/data/train\n",
      "version: '2.3'\n",
      "\n",
      "INFO:sagemaker.local.image:docker command: docker-compose -f /tmp/tmpeewxrvxz/docker-compose.yaml up --build --abort-on-container-exit\n",
      "Creating tmpeewxrvxz_algo-1-42rh5_1 ... \n",
      "\u001b[1BAttaching to tmpeewxrvxz_algo-1-42rh5_12mdone\u001b[0m\n",
      "\u001b[36malgo-1-42rh5_1  |\u001b[0m 2020-03-04 20:04:22,612 sagemaker-containers INFO     Imported framework sagemaker_pytorch_container.training\n",
      "\u001b[36malgo-1-42rh5_1  |\u001b[0m 2020-03-04 20:04:22,617 sagemaker-containers INFO     No GPUs detected (normal if no gpus installed)\n",
      "\u001b[36malgo-1-42rh5_1  |\u001b[0m 2020-03-04 20:04:22,631 sagemaker_pytorch_container.training INFO     Block until all host DNS lookups succeed.\n",
      "\u001b[36malgo-1-42rh5_1  |\u001b[0m 2020-03-04 20:04:22,633 sagemaker_pytorch_container.training INFO     Invoking user training script.\n",
      "\u001b[36malgo-1-42rh5_1  |\u001b[0m 2020-03-04 20:04:22,774 sagemaker-containers INFO     Module default_user_module_name does not provide a setup.py. \n",
      "\u001b[36malgo-1-42rh5_1  |\u001b[0m Generating setup.py\n",
      "\u001b[36malgo-1-42rh5_1  |\u001b[0m 2020-03-04 20:04:22,774 sagemaker-containers INFO     Generating setup.cfg\n",
      "\u001b[36malgo-1-42rh5_1  |\u001b[0m 2020-03-04 20:04:22,775 sagemaker-containers INFO     Generating MANIFEST.in\n",
      "\u001b[36malgo-1-42rh5_1  |\u001b[0m 2020-03-04 20:04:22,775 sagemaker-containers INFO     Installing module with the following command:\n",
      "\u001b[36malgo-1-42rh5_1  |\u001b[0m /opt/conda/bin/python -m pip install . -r requirements.txt\n",
      "\u001b[36malgo-1-42rh5_1  |\u001b[0m Processing /tmp/tmphfrjbmqv/module_dir\n",
      "\u001b[36malgo-1-42rh5_1  |\u001b[0m Collecting space_bandits>=0.0.992\n",
      "\u001b[36malgo-1-42rh5_1  |\u001b[0m   Downloading space-bandits-0.0.992.tar.gz (12 kB)\n",
      "\u001b[36malgo-1-42rh5_1  |\u001b[0m Requirement already satisfied: torch in /opt/conda/lib/python3.6/site-packages (from space_bandits>=0.0.992->-r requirements.txt (line 1)) (1.3.1)\n",
      "\u001b[36malgo-1-42rh5_1  |\u001b[0m Requirement already satisfied: numpy in /opt/conda/lib/python3.6/site-packages (from space_bandits>=0.0.992->-r requirements.txt (line 1)) (1.16.4)\n",
      "\u001b[36malgo-1-42rh5_1  |\u001b[0m Requirement already satisfied: scipy in /opt/conda/lib/python3.6/site-packages (from space_bandits>=0.0.992->-r requirements.txt (line 1)) (1.2.2)\n",
      "\u001b[36malgo-1-42rh5_1  |\u001b[0m Requirement already satisfied: pandas in /opt/conda/lib/python3.6/site-packages (from space_bandits>=0.0.992->-r requirements.txt (line 1)) (0.25.0)\n",
      "\u001b[36malgo-1-42rh5_1  |\u001b[0m Requirement already satisfied: cython in /opt/conda/lib/python3.6/site-packages (from space_bandits>=0.0.992->-r requirements.txt (line 1)) (0.29.12)\n",
      "\u001b[36malgo-1-42rh5_1  |\u001b[0m Requirement already satisfied: scikit-learn in /opt/conda/lib/python3.6/site-packages (from space_bandits>=0.0.992->-r requirements.txt (line 1)) (0.21.2)\n",
      "\u001b[36malgo-1-42rh5_1  |\u001b[0m Requirement already satisfied: pytz>=2017.2 in /opt/conda/lib/python3.6/site-packages (from pandas->space_bandits>=0.0.992->-r requirements.txt (line 1)) (2019.3)\n",
      "\u001b[36malgo-1-42rh5_1  |\u001b[0m Requirement already satisfied: python-dateutil>=2.6.1 in /opt/conda/lib/python3.6/site-packages (from pandas->space_bandits>=0.0.992->-r requirements.txt (line 1)) (2.8.1)\n",
      "\u001b[36malgo-1-42rh5_1  |\u001b[0m Requirement already satisfied: joblib>=0.11 in /opt/conda/lib/python3.6/site-packages (from scikit-learn->space_bandits>=0.0.992->-r requirements.txt (line 1)) (0.14.1)\n",
      "\u001b[36malgo-1-42rh5_1  |\u001b[0m Requirement already satisfied: six>=1.5 in /opt/conda/lib/python3.6/site-packages (from python-dateutil>=2.6.1->pandas->space_bandits>=0.0.992->-r requirements.txt (line 1)) (1.12.0)\n",
      "\u001b[36malgo-1-42rh5_1  |\u001b[0m Building wheels for collected packages: space-bandits, default-user-module-name\n",
      "\u001b[36malgo-1-42rh5_1  |\u001b[0m   Building wheel for space-bandits (setup.py) ... \u001b[?25ldone\n",
      "\u001b[36malgo-1-42rh5_1  |\u001b[0m \u001b[?25h  Created wheel for space-bandits: filename=space_bandits-0.0.992-py3-none-any.whl size=17438 sha256=6302129c19e7f313689e4d358b334d0d5d8ae2b39809ebe7f96c5cb8b0ee8179\n",
      "\u001b[36malgo-1-42rh5_1  |\u001b[0m   Stored in directory: /root/.cache/pip/wheels/84/16/fc/6c9e1caf97c9a05982c7d620cd6c55693e38098e2092818f6b\n",
      "\u001b[36malgo-1-42rh5_1  |\u001b[0m   Building wheel for default-user-module-name (setup.py) ... \u001b[?25ldone\n",
      "\u001b[36malgo-1-42rh5_1  |\u001b[0m \u001b[?25h  Created wheel for default-user-module-name: filename=default_user_module_name-1.0.0-py2.py3-none-any.whl size=17469 sha256=ddd19364dc21c26afd65a666a932f681adde9a32ac897cb57a7cab11c079367a\n",
      "\u001b[36malgo-1-42rh5_1  |\u001b[0m   Stored in directory: /tmp/pip-ephem-wheel-cache-l6bt7lbq/wheels/d2/a8/81/54adf21262a66c2a91fe7405b907b70cf3f51091f26b9d882c\n",
      "\u001b[36malgo-1-42rh5_1  |\u001b[0m Successfully built space-bandits default-user-module-name\n",
      "\u001b[36malgo-1-42rh5_1  |\u001b[0m Installing collected packages: space-bandits, default-user-module-name\n",
      "\u001b[36malgo-1-42rh5_1  |\u001b[0m Successfully installed default-user-module-name-1.0.0 space-bandits-0.0.992\n",
      "\u001b[36malgo-1-42rh5_1  |\u001b[0m \u001b[33mWARNING: You are using pip version 20.0.1; however, version 20.0.2 is available.\n",
      "\u001b[36malgo-1-42rh5_1  |\u001b[0m You should consider upgrading via the '/opt/conda/bin/python -m pip install --upgrade pip' command.\u001b[0m\n",
      "\u001b[36malgo-1-42rh5_1  |\u001b[0m 2020-03-04 20:04:25,751 sagemaker-containers INFO     No GPUs detected (normal if no gpus installed)\n",
      "\u001b[36malgo-1-42rh5_1  |\u001b[0m 2020-03-04 20:04:25,769 sagemaker-containers INFO     No GPUs detected (normal if no gpus installed)\n",
      "\u001b[36malgo-1-42rh5_1  |\u001b[0m 2020-03-04 20:04:25,786 sagemaker-containers INFO     No GPUs detected (normal if no gpus installed)\n",
      "\u001b[36malgo-1-42rh5_1  |\u001b[0m 2020-03-04 20:04:25,800 sagemaker-containers INFO     Invoking user script\n",
      "\u001b[36malgo-1-42rh5_1  |\u001b[0m \n",
      "\u001b[36malgo-1-42rh5_1  |\u001b[0m Training Env:\n",
      "\u001b[36malgo-1-42rh5_1  |\u001b[0m \n",
      "\u001b[36malgo-1-42rh5_1  |\u001b[0m {\n",
      "\u001b[36malgo-1-42rh5_1  |\u001b[0m     \"additional_framework_parameters\": {},\n",
      "\u001b[36malgo-1-42rh5_1  |\u001b[0m     \"channel_input_dirs\": {\n",
      "\u001b[36malgo-1-42rh5_1  |\u001b[0m         \"train\": \"/opt/ml/input/data/train\"\n",
      "\u001b[36malgo-1-42rh5_1  |\u001b[0m     },\n",
      "\u001b[36malgo-1-42rh5_1  |\u001b[0m     \"current_host\": \"algo-1-42rh5\",\n",
      "\u001b[36malgo-1-42rh5_1  |\u001b[0m     \"framework_module\": \"sagemaker_pytorch_container.training:main\",\n",
      "\u001b[36malgo-1-42rh5_1  |\u001b[0m     \"hosts\": [\n",
      "\u001b[36malgo-1-42rh5_1  |\u001b[0m         \"algo-1-42rh5\"\n",
      "\u001b[36malgo-1-42rh5_1  |\u001b[0m     ],\n",
      "\u001b[36malgo-1-42rh5_1  |\u001b[0m     \"hyperparameters\": {\n",
      "\u001b[36malgo-1-42rh5_1  |\u001b[0m         \"action_dim\": 8,\n",
      "\u001b[36malgo-1-42rh5_1  |\u001b[0m         \"context_dim\": 21\n",
      "\u001b[36malgo-1-42rh5_1  |\u001b[0m     },\n",
      "\u001b[36malgo-1-42rh5_1  |\u001b[0m     \"input_config_dir\": \"/opt/ml/input/config\",\n",
      "\u001b[36malgo-1-42rh5_1  |\u001b[0m     \"input_data_config\": {\n",
      "\u001b[36malgo-1-42rh5_1  |\u001b[0m         \"train\": {\n",
      "\u001b[36malgo-1-42rh5_1  |\u001b[0m             \"TrainingInputMode\": \"File\"\n",
      "\u001b[36malgo-1-42rh5_1  |\u001b[0m         }\n",
      "\u001b[36malgo-1-42rh5_1  |\u001b[0m     },\n",
      "\u001b[36malgo-1-42rh5_1  |\u001b[0m     \"input_dir\": \"/opt/ml/input\",\n",
      "\u001b[36malgo-1-42rh5_1  |\u001b[0m     \"is_master\": true,\n",
      "\u001b[36malgo-1-42rh5_1  |\u001b[0m     \"job_name\": \"pytorch-training-2020-03-04-20-04-20-388\",\n",
      "\u001b[36malgo-1-42rh5_1  |\u001b[0m     \"log_level\": 20,\n",
      "\u001b[36malgo-1-42rh5_1  |\u001b[0m     \"master_hostname\": \"algo-1-42rh5\",\n",
      "\u001b[36malgo-1-42rh5_1  |\u001b[0m     \"model_dir\": \"/opt/ml/model\",\n",
      "\u001b[36malgo-1-42rh5_1  |\u001b[0m     \"module_dir\": \"s3://sagemaker-us-west-2-351033349862/pytorch-training-2020-03-04-20-04-20-388/source/sourcedir.tar.gz\",\n",
      "\u001b[36malgo-1-42rh5_1  |\u001b[0m     \"module_name\": \"train\",\n",
      "\u001b[36malgo-1-42rh5_1  |\u001b[0m     \"network_interface_name\": \"eth0\",\n",
      "\u001b[36malgo-1-42rh5_1  |\u001b[0m     \"num_cpus\": 2,\n",
      "\u001b[36malgo-1-42rh5_1  |\u001b[0m     \"num_gpus\": 0,\n",
      "\u001b[36malgo-1-42rh5_1  |\u001b[0m     \"output_data_dir\": \"/opt/ml/output/data\",\n",
      "\u001b[36malgo-1-42rh5_1  |\u001b[0m     \"output_dir\": \"/opt/ml/output\",\n",
      "\u001b[36malgo-1-42rh5_1  |\u001b[0m     \"output_intermediate_dir\": \"/opt/ml/output/intermediate\",\n",
      "\u001b[36malgo-1-42rh5_1  |\u001b[0m     \"resource_config\": {\n",
      "\u001b[36malgo-1-42rh5_1  |\u001b[0m         \"current_host\": \"algo-1-42rh5\",\n",
      "\u001b[36malgo-1-42rh5_1  |\u001b[0m         \"hosts\": [\n",
      "\u001b[36malgo-1-42rh5_1  |\u001b[0m             \"algo-1-42rh5\"\n",
      "\u001b[36malgo-1-42rh5_1  |\u001b[0m         ]\n",
      "\u001b[36malgo-1-42rh5_1  |\u001b[0m     },\n",
      "\u001b[36malgo-1-42rh5_1  |\u001b[0m     \"user_entry_point\": \"train.py\"\n",
      "\u001b[36malgo-1-42rh5_1  |\u001b[0m }\n",
      "\u001b[36malgo-1-42rh5_1  |\u001b[0m \n",
      "\u001b[36malgo-1-42rh5_1  |\u001b[0m Environment variables:\n",
      "\u001b[36malgo-1-42rh5_1  |\u001b[0m \n",
      "\u001b[36malgo-1-42rh5_1  |\u001b[0m SM_HOSTS=[\"algo-1-42rh5\"]\n",
      "\u001b[36malgo-1-42rh5_1  |\u001b[0m SM_NETWORK_INTERFACE_NAME=eth0\n",
      "\u001b[36malgo-1-42rh5_1  |\u001b[0m SM_HPS={\"action_dim\":8,\"context_dim\":21}\n",
      "\u001b[36malgo-1-42rh5_1  |\u001b[0m SM_USER_ENTRY_POINT=train.py\n",
      "\u001b[36malgo-1-42rh5_1  |\u001b[0m SM_FRAMEWORK_PARAMS={}\n",
      "\u001b[36malgo-1-42rh5_1  |\u001b[0m SM_RESOURCE_CONFIG={\"current_host\":\"algo-1-42rh5\",\"hosts\":[\"algo-1-42rh5\"]}\n",
      "\u001b[36malgo-1-42rh5_1  |\u001b[0m SM_INPUT_DATA_CONFIG={\"train\":{\"TrainingInputMode\":\"File\"}}\n",
      "\u001b[36malgo-1-42rh5_1  |\u001b[0m SM_OUTPUT_DATA_DIR=/opt/ml/output/data\n",
      "\u001b[36malgo-1-42rh5_1  |\u001b[0m SM_CHANNELS=[\"train\"]\n",
      "\u001b[36malgo-1-42rh5_1  |\u001b[0m SM_CURRENT_HOST=algo-1-42rh5\n",
      "\u001b[36malgo-1-42rh5_1  |\u001b[0m SM_MODULE_NAME=train\n",
      "\u001b[36malgo-1-42rh5_1  |\u001b[0m SM_LOG_LEVEL=20\n",
      "\u001b[36malgo-1-42rh5_1  |\u001b[0m SM_FRAMEWORK_MODULE=sagemaker_pytorch_container.training:main\n",
      "\u001b[36malgo-1-42rh5_1  |\u001b[0m SM_INPUT_DIR=/opt/ml/input\n",
      "\u001b[36malgo-1-42rh5_1  |\u001b[0m SM_INPUT_CONFIG_DIR=/opt/ml/input/config\n",
      "\u001b[36malgo-1-42rh5_1  |\u001b[0m SM_OUTPUT_DIR=/opt/ml/output\n",
      "\u001b[36malgo-1-42rh5_1  |\u001b[0m SM_NUM_CPUS=2\n",
      "\u001b[36malgo-1-42rh5_1  |\u001b[0m SM_NUM_GPUS=0\n",
      "\u001b[36malgo-1-42rh5_1  |\u001b[0m SM_MODEL_DIR=/opt/ml/model\n",
      "\u001b[36malgo-1-42rh5_1  |\u001b[0m SM_MODULE_DIR=s3://sagemaker-us-west-2-351033349862/pytorch-training-2020-03-04-20-04-20-388/source/sourcedir.tar.gz\n",
      "\u001b[36malgo-1-42rh5_1  |\u001b[0m SM_TRAINING_ENV={\"additional_framework_parameters\":{},\"channel_input_dirs\":{\"train\":\"/opt/ml/input/data/train\"},\"current_host\":\"algo-1-42rh5\",\"framework_module\":\"sagemaker_pytorch_container.training:main\",\"hosts\":[\"algo-1-42rh5\"],\"hyperparameters\":{\"action_dim\":8,\"context_dim\":21},\"input_config_dir\":\"/opt/ml/input/config\",\"input_data_config\":{\"train\":{\"TrainingInputMode\":\"File\"}},\"input_dir\":\"/opt/ml/input\",\"is_master\":true,\"job_name\":\"pytorch-training-2020-03-04-20-04-20-388\",\"log_level\":20,\"master_hostname\":\"algo-1-42rh5\",\"model_dir\":\"/opt/ml/model\",\"module_dir\":\"s3://sagemaker-us-west-2-351033349862/pytorch-training-2020-03-04-20-04-20-388/source/sourcedir.tar.gz\",\"module_name\":\"train\",\"network_interface_name\":\"eth0\",\"num_cpus\":2,\"num_gpus\":0,\"output_data_dir\":\"/opt/ml/output/data\",\"output_dir\":\"/opt/ml/output\",\"output_intermediate_dir\":\"/opt/ml/output/intermediate\",\"resource_config\":{\"current_host\":\"algo-1-42rh5\",\"hosts\":[\"algo-1-42rh5\"]},\"user_entry_point\":\"train.py\"}\n",
      "\u001b[36malgo-1-42rh5_1  |\u001b[0m SM_USER_ARGS=[\"--action_dim\",\"8\",\"--context_dim\",\"21\"]\n",
      "\u001b[36malgo-1-42rh5_1  |\u001b[0m SM_OUTPUT_INTERMEDIATE_DIR=/opt/ml/output/intermediate\n",
      "\u001b[36malgo-1-42rh5_1  |\u001b[0m SM_CHANNEL_TRAIN=/opt/ml/input/data/train\n",
      "\u001b[36malgo-1-42rh5_1  |\u001b[0m SM_HP_ACTION_DIM=8\n",
      "\u001b[36malgo-1-42rh5_1  |\u001b[0m SM_HP_CONTEXT_DIM=21\n",
      "\u001b[36malgo-1-42rh5_1  |\u001b[0m PYTHONPATH=/opt/ml/code:/opt/conda/bin:/opt/conda/lib/python36.zip:/opt/conda/lib/python3.6:/opt/conda/lib/python3.6/lib-dynload:/opt/conda/lib/python3.6/site-packages\n",
      "\u001b[36malgo-1-42rh5_1  |\u001b[0m \n",
      "\u001b[36malgo-1-42rh5_1  |\u001b[0m Invoking script with the following command:\n",
      "\u001b[36malgo-1-42rh5_1  |\u001b[0m \n",
      "\u001b[36malgo-1-42rh5_1  |\u001b[0m /opt/conda/bin/python train.py --action_dim 8 --context_dim 21\n",
      "\u001b[36malgo-1-42rh5_1  |\u001b[0m \n",
      "\u001b[36malgo-1-42rh5_1  |\u001b[0m \n",
      "\u001b[36malgo-1-42rh5_1  |\u001b[0m Training neural_model-bnn for 100 steps...\n",
      "\u001b[36malgo-1-42rh5_1  |\u001b[0m Training neural_model-bnn for 100 steps...\n",
      "\u001b[36malgo-1-42rh5_1  |\u001b[0m Training neural_model-bnn for 100 steps...\n",
      "\u001b[36malgo-1-42rh5_1  |\u001b[0m Training neural_model-bnn for 100 steps...\n",
      "\u001b[36malgo-1-42rh5_1  |\u001b[0m Training neural_model-bnn for 100 steps...\n",
      "\u001b[36malgo-1-42rh5_1  |\u001b[0m Training neural_model-bnn for 100 steps...\n",
      "\u001b[36malgo-1-42rh5_1  |\u001b[0m Training neural_model-bnn for 100 steps...\n",
      "\u001b[36malgo-1-42rh5_1  |\u001b[0m Training neural_model-bnn for 100 steps...\n",
      "\u001b[36malgo-1-42rh5_1  |\u001b[0m Training neural_model-bnn for 100 steps...\n",
      "\u001b[36malgo-1-42rh5_1  |\u001b[0m Training neural_model-bnn for 100 steps...\n",
      "\u001b[36malgo-1-42rh5_1  |\u001b[0m Training neural_model-bnn for 100 steps...\n",
      "\u001b[36malgo-1-42rh5_1  |\u001b[0m Training neural_model-bnn for 100 steps...\n",
      "\u001b[36malgo-1-42rh5_1  |\u001b[0m Training neural_model-bnn for 100 steps...\n",
      "\u001b[36malgo-1-42rh5_1  |\u001b[0m Training neural_model-bnn for 100 steps...\n",
      "\u001b[36malgo-1-42rh5_1  |\u001b[0m Training neural_model-bnn for 100 steps...\n",
      "\u001b[36malgo-1-42rh5_1  |\u001b[0m Training neural_model-bnn for 100 steps...\n",
      "\u001b[36malgo-1-42rh5_1  |\u001b[0m Training neural_model-bnn for 100 steps...\n",
      "\u001b[36malgo-1-42rh5_1  |\u001b[0m Training neural_model-bnn for 100 steps...\n",
      "\u001b[36malgo-1-42rh5_1  |\u001b[0m Training neural_model-bnn for 100 steps...\n",
      "\u001b[36malgo-1-42rh5_1  |\u001b[0m Training neural_model-bnn for 100 steps...\n",
      "\u001b[36malgo-1-42rh5_1  |\u001b[0m Training neural_model-bnn for 100 steps...\n",
      "\u001b[36malgo-1-42rh5_1  |\u001b[0m Training neural_model-bnn for 100 steps...\n",
      "\u001b[36malgo-1-42rh5_1  |\u001b[0m Training neural_model-bnn for 100 steps...\n",
      "\u001b[36malgo-1-42rh5_1  |\u001b[0m Training neural_model-bnn for 100 steps...\n",
      "\u001b[36malgo-1-42rh5_1  |\u001b[0m Training neural_model-bnn for 100 steps...\n",
      "\u001b[36malgo-1-42rh5_1  |\u001b[0m Training neural_model-bnn for 100 steps...\n",
      "\u001b[36malgo-1-42rh5_1  |\u001b[0m Training neural_model-bnn for 100 steps...\n",
      "\u001b[36malgo-1-42rh5_1  |\u001b[0m Training neural_model-bnn for 100 steps...\n",
      "\u001b[36malgo-1-42rh5_1  |\u001b[0m Training neural_model-bnn for 100 steps...\n",
      "\u001b[36malgo-1-42rh5_1  |\u001b[0m Training neural_model-bnn for 100 steps...\n",
      "\u001b[36malgo-1-42rh5_1  |\u001b[0m Training neural_model-bnn for 100 steps...\n",
      "\u001b[36malgo-1-42rh5_1  |\u001b[0m Training neural_model-bnn for 100 steps...\n",
      "\u001b[36malgo-1-42rh5_1  |\u001b[0m Training neural_model-bnn for 100 steps...\n",
      "\u001b[36malgo-1-42rh5_1  |\u001b[0m Training neural_model-bnn for 100 steps...\n",
      "\u001b[36malgo-1-42rh5_1  |\u001b[0m Training neural_model-bnn for 100 steps...\n",
      "\u001b[36malgo-1-42rh5_1  |\u001b[0m Training neural_model-bnn for 100 steps...\n",
      "\u001b[36malgo-1-42rh5_1  |\u001b[0m Training neural_model-bnn for 100 steps...\n",
      "\u001b[36malgo-1-42rh5_1  |\u001b[0m Training neural_model-bnn for 100 steps...\n",
      "\u001b[36malgo-1-42rh5_1  |\u001b[0m Training neural_model-bnn for 100 steps...\n",
      "\u001b[36malgo-1-42rh5_1  |\u001b[0m Training neural_model-bnn for 100 steps...\n",
      "\u001b[36malgo-1-42rh5_1  |\u001b[0m Training neural_model-bnn for 100 steps...\n",
      "\u001b[36malgo-1-42rh5_1  |\u001b[0m Training neural_model-bnn for 100 steps...\n",
      "\u001b[36malgo-1-42rh5_1  |\u001b[0m Training neural_model-bnn for 100 steps...\n",
      "\u001b[36malgo-1-42rh5_1  |\u001b[0m Training neural_model-bnn for 100 steps...\n",
      "\u001b[36malgo-1-42rh5_1  |\u001b[0m Training neural_model-bnn for 100 steps...\n",
      "\u001b[36malgo-1-42rh5_1  |\u001b[0m Training neural_model-bnn for 100 steps...\n",
      "\u001b[36malgo-1-42rh5_1  |\u001b[0m Training neural_model-bnn for 100 steps...\n",
      "\u001b[36malgo-1-42rh5_1  |\u001b[0m Training neural_model-bnn for 100 steps...\n",
      "\u001b[36malgo-1-42rh5_1  |\u001b[0m Training neural_model-bnn for 100 steps...\n",
      "\u001b[36malgo-1-42rh5_1  |\u001b[0m Training neural_model-bnn for 100 steps...\n",
      "\u001b[36malgo-1-42rh5_1  |\u001b[0m Training neural_model-bnn for 100 steps...\n",
      "\u001b[36malgo-1-42rh5_1  |\u001b[0m Training neural_model-bnn for 100 steps...\n",
      "\u001b[36malgo-1-42rh5_1  |\u001b[0m Training neural_model-bnn for 100 steps...\n",
      "\u001b[36malgo-1-42rh5_1  |\u001b[0m Training neural_model-bnn for 100 steps...\n",
      "\u001b[36malgo-1-42rh5_1  |\u001b[0m Training neural_model-bnn for 100 steps...\n",
      "\u001b[36malgo-1-42rh5_1  |\u001b[0m Training neural_model-bnn for 100 steps...\n",
      "\u001b[36malgo-1-42rh5_1  |\u001b[0m Training neural_model-bnn for 100 steps...\n",
      "\u001b[36malgo-1-42rh5_1  |\u001b[0m Training neural_model-bnn for 100 steps...\n",
      "\u001b[36malgo-1-42rh5_1  |\u001b[0m Training neural_model-bnn for 100 steps...\n",
      "\u001b[36malgo-1-42rh5_1  |\u001b[0m Training neural_model-bnn for 100 steps...\n",
      "\u001b[36malgo-1-42rh5_1  |\u001b[0m Training neural_model-bnn for 100 steps...\n",
      "\u001b[36malgo-1-42rh5_1  |\u001b[0m Training neural_model-bnn for 100 steps...\n",
      "\u001b[36malgo-1-42rh5_1  |\u001b[0m Training neural_model-bnn for 100 steps...\n",
      "\u001b[36malgo-1-42rh5_1  |\u001b[0m Training neural_model-bnn for 100 steps...\n",
      "\u001b[36malgo-1-42rh5_1  |\u001b[0m Training neural_model-bnn for 100 steps...\n",
      "\u001b[36malgo-1-42rh5_1  |\u001b[0m Training neural_model-bnn for 100 steps...\n",
      "\u001b[36malgo-1-42rh5_1  |\u001b[0m Training neural_model-bnn for 100 steps...\n",
      "\u001b[36malgo-1-42rh5_1  |\u001b[0m Training neural_model-bnn for 100 steps...\n",
      "\u001b[36malgo-1-42rh5_1  |\u001b[0m Training neural_model-bnn for 100 steps...\n",
      "\u001b[36malgo-1-42rh5_1  |\u001b[0m Training neural_model-bnn for 100 steps...\n",
      "\u001b[36malgo-1-42rh5_1  |\u001b[0m Training neural_model-bnn for 100 steps...\n",
      "\u001b[36malgo-1-42rh5_1  |\u001b[0m Training neural_model-bnn for 100 steps...\n",
      "\u001b[36malgo-1-42rh5_1  |\u001b[0m Training neural_model-bnn for 100 steps...\n",
      "\u001b[36malgo-1-42rh5_1  |\u001b[0m Training neural_model-bnn for 100 steps...\n",
      "\u001b[36malgo-1-42rh5_1  |\u001b[0m 2020-03-04 20:05:50,814 sagemaker-containers INFO     Reporting training SUCCESS\n",
      "\u001b[36mtmpeewxrvxz_algo-1-42rh5_1 exited with code 0\n",
      "\u001b[0mAborting on container exit...\n",
      "===== Job Complete =====\n"
     ]
    }
   ],
   "source": [
    "estimator.fit(inputs={'train': financial_data_s3_path})"
   ]
  },
  {
   "cell_type": "code",
   "execution_count": 160,
   "metadata": {},
   "outputs": [],
   "source": [
    "sage_session = sagemaker.local.LocalSession() if local_mode else sage_session\n"
   ]
  },
  {
   "cell_type": "code",
   "execution_count": 181,
   "metadata": {},
   "outputs": [
    {
     "data": {
      "text/plain": [
       "'pytorch-training-2020-03-04-20-04-20-388'"
      ]
     },
     "execution_count": 181,
     "metadata": {},
     "output_type": "execute_result"
    }
   ],
   "source": [
    "job_name = estimator.latest_training_job.job_name\n",
    "job_name"
   ]
  },
  {
   "cell_type": "code",
   "execution_count": 182,
   "metadata": {},
   "outputs": [],
   "source": [
    "if local_mode:\n",
    "    output_path_prefix = f\"{job_name}/output.tar.gz\"\n",
    "    model_path = f\"{job_name}/model.tar.gz\"\n",
    "    \n",
    "else:\n",
    "    output_path_prefix = f\"{job_name}/output/output.tar.gz\"\n",
    "    model_path = f\"{job_name}/output/model.tar.gz\"\n",
    "    \n",
    "#sage_session.download_data(path=\"../models/output\", bucket=s3_bucket, key_prefix=job_name)"
   ]
  },
  {
   "cell_type": "code",
   "execution_count": 183,
   "metadata": {},
   "outputs": [
    {
     "data": {
      "text/plain": [
       "'s3://sagemaker-us-west-2-351033349862/pytorch-training-2020-03-04-20-04-20-388/model.tar.gz'"
      ]
     },
     "execution_count": 183,
     "metadata": {},
     "output_type": "execute_result"
    }
   ],
   "source": [
    "model_path = os.path.join(s3_output_path,model_path)\n",
    "model_path"
   ]
  },
  {
   "cell_type": "code",
   "execution_count": 184,
   "metadata": {},
   "outputs": [],
   "source": [
    "model=PyTorchModel(model_data=model_path, name=\"model_v2\",\n",
    "    role=role, framework_version='1.3.1', source_dir=source_dir,entry_point='serve.py')"
   ]
  },
  {
   "cell_type": "code",
   "execution_count": 185,
   "metadata": {},
   "outputs": [
    {
     "name": "stdout",
     "output_type": "stream",
     "text": [
      "INFO:sagemaker:Creating model with name: model_v2\n",
      "INFO:sagemaker:Creating endpoint with name model_v2\n",
      "INFO:sagemaker.local.image:serving\n",
      "INFO:sagemaker.local.image:creating hosting dir in /tmp/tmppslj4lt0\n",
      "INFO:sagemaker.local.image:No AWS credentials found in session but credentials from EC2 Metadata Service are available.\n",
      "INFO:sagemaker.local.image:docker compose file: \n",
      "networks:\n",
      "  sagemaker-local:\n",
      "    name: sagemaker-local\n",
      "services:\n",
      "  algo-1-644sp:\n",
      "    command: serve\n",
      "    environment:\n",
      "    - SAGEMAKER_PROGRAM=serve.py\n",
      "    - SAGEMAKER_SUBMIT_DIRECTORY=s3://sagemaker-us-west-2-351033349862/model_v2/model.tar.gz\n",
      "    - SAGEMAKER_ENABLE_CLOUDWATCH_METRICS=false\n",
      "    - SAGEMAKER_CONTAINER_LOG_LEVEL=20\n",
      "    - SAGEMAKER_REGION=us-west-2\n",
      "    image: 763104351884.dkr.ecr.us-west-2.amazonaws.com/pytorch-inference:1.3.1-cpu-py3\n",
      "    networks:\n",
      "      sagemaker-local:\n",
      "        aliases:\n",
      "        - algo-1-644sp\n",
      "    ports:\n",
      "    - 8080:8080\n",
      "    stdin_open: true\n",
      "    tty: true\n",
      "    volumes:\n",
      "    - /tmp/tmpjjwd2m2j:/opt/ml/model\n",
      "version: '2.3'\n",
      "\n",
      "INFO:sagemaker.local.image:docker command: docker-compose -f /tmp/tmppslj4lt0/docker-compose.yaml up --build --abort-on-container-exit\n",
      "INFO:sagemaker.local.entities:Checking if serving container is up, attempt: 5\n",
      "\u001b[36malgo-1-ufis7_1  |\u001b[0m 2020-03-04 20:08:44,096 [INFO ] pool-1-thread-8 ACCESS_LOG - /172.18.0.1:45342 \"GET /ping HTTP/1.1\" 200 2\n",
      "!"
     ]
    },
    {
     "name": "stderr",
     "output_type": "stream",
     "text": [
      "Exception in thread Thread-13:\n",
      "Traceback (most recent call last):\n",
      "  File \"/home/ec2-user/anaconda3/envs/pytorch_p36/lib/python3.6/site-packages/sagemaker/local/image.py\", line 614, in run\n",
      "    _stream_output(self.process)\n",
      "  File \"/home/ec2-user/anaconda3/envs/pytorch_p36/lib/python3.6/site-packages/sagemaker/local/image.py\", line 673, in _stream_output\n",
      "    raise RuntimeError(\"Process exited with code: %s\" % exit_code)\n",
      "RuntimeError: Process exited with code: 1\n",
      "\n",
      "During handling of the above exception, another exception occurred:\n",
      "\n",
      "Traceback (most recent call last):\n",
      "  File \"/home/ec2-user/anaconda3/envs/pytorch_p36/lib/python3.6/threading.py\", line 916, in _bootstrap_inner\n",
      "    self.run()\n",
      "  File \"/home/ec2-user/anaconda3/envs/pytorch_p36/lib/python3.6/site-packages/sagemaker/local/image.py\", line 619, in run\n",
      "    raise RuntimeError(msg)\n",
      "RuntimeError: Failed to run: ['docker-compose', '-f', '/tmp/tmppslj4lt0/docker-compose.yaml', 'up', '--build', '--abort-on-container-exit'], Process exited with code: 1\n",
      "\n"
     ]
    }
   ],
   "source": [
    "predictor = model.deploy(initial_instance_count=1, instance_type=instance_type)"
   ]
  },
  {
   "cell_type": "code",
   "execution_count": null,
   "metadata": {},
   "outputs": [],
   "source": [
    "predictor = estimator.deploy(initial_instance_count=1, instance_type=instance_type)\n"
   ]
  },
  {
   "cell_type": "code",
   "execution_count": 82,
   "metadata": {},
   "outputs": [],
   "source": [
    "df = pd.read_csv(financial_data_path)"
   ]
  },
  {
   "cell_type": "code",
   "execution_count": 86,
   "metadata": {},
   "outputs": [],
   "source": [
    "data = df.to_numpy()"
   ]
  },
  {
   "cell_type": "code",
   "execution_count": 88,
   "metadata": {},
   "outputs": [
    {
     "data": {
      "text/plain": [
       "(29,)"
      ]
     },
     "execution_count": 88,
     "metadata": {},
     "output_type": "execute_result"
    }
   ],
   "source": [
    "data[0].shape"
   ]
  },
  {
   "cell_type": "code",
   "execution_count": 91,
   "metadata": {},
   "outputs": [],
   "source": [
    "context = data[0,:21]"
   ]
  },
  {
   "cell_type": "code",
   "execution_count": 170,
   "metadata": {},
   "outputs": [
    {
     "data": {
      "text/plain": [
       "array([-0.424286,  0.880005,  0.5     ,  0.289997,  0.82    ,  0.17    ,\n",
       "        0.370003,  0.07    ,  0.630001, -0.830001,  0.32    ,  0.119999,\n",
       "        0.24    ,  0.200001, -0.550003, -0.075   ,  0.059997, -0.130001,\n",
       "        0.610001,  0.059997,  0.470002])"
      ]
     },
     "execution_count": 170,
     "metadata": {},
     "output_type": "execute_result"
    }
   ],
   "source": [
    "context"
   ]
  },
  {
   "cell_type": "code",
   "execution_count": 186,
   "metadata": {},
   "outputs": [
    {
     "name": "stdout",
     "output_type": "stream",
     "text": [
      "\u001b[36malgo-1-ufis7_1  |\u001b[0m 2020-03-04 20:08:53,863 [INFO ] W-9000-model com.amazonaws.ml.mms.wlm.WorkerThread - Backend response time: 0\n",
      "\u001b[36malgo-1-ufis7_1  |\u001b[0m 2020-03-04 20:08:53,864 [INFO ] W-9000-model ACCESS_LOG - /172.18.0.1:45346 \"POST /invocations HTTP/1.1\" 500 3\n"
     ]
    },
    {
     "ename": "OSError",
     "evalue": "Failed to interpret file <_io.BytesIO object at 0x7fd508f59258> as a pickle",
     "output_type": "error",
     "traceback": [
      "\u001b[0;31m---------------------------------------------------------------------------\u001b[0m",
      "\u001b[0;31mUnpicklingError\u001b[0m                           Traceback (most recent call last)",
      "\u001b[0;32m~/anaconda3/envs/pytorch_p36/lib/python3.6/site-packages/numpy/lib/npyio.py\u001b[0m in \u001b[0;36mload\u001b[0;34m(file, mmap_mode, allow_pickle, fix_imports, encoding)\u001b[0m\n\u001b[1;32m    439\u001b[0m             \u001b[0;32mtry\u001b[0m\u001b[0;34m:\u001b[0m\u001b[0;34m\u001b[0m\u001b[0m\n\u001b[0;32m--> 440\u001b[0;31m                 \u001b[0;32mreturn\u001b[0m \u001b[0mpickle\u001b[0m\u001b[0;34m.\u001b[0m\u001b[0mload\u001b[0m\u001b[0;34m(\u001b[0m\u001b[0mfid\u001b[0m\u001b[0;34m,\u001b[0m \u001b[0;34m**\u001b[0m\u001b[0mpickle_kwargs\u001b[0m\u001b[0;34m)\u001b[0m\u001b[0;34m\u001b[0m\u001b[0m\n\u001b[0m\u001b[1;32m    441\u001b[0m             \u001b[0;32mexcept\u001b[0m \u001b[0mException\u001b[0m\u001b[0;34m:\u001b[0m\u001b[0;34m\u001b[0m\u001b[0m\n",
      "\u001b[0;31mUnpicklingError\u001b[0m: could not find MARK",
      "\nDuring handling of the above exception, another exception occurred:\n",
      "\u001b[0;31mOSError\u001b[0m                                   Traceback (most recent call last)",
      "\u001b[0;32m<ipython-input-186-fc13a991f5cd>\u001b[0m in \u001b[0;36m<module>\u001b[0;34m()\u001b[0m\n\u001b[0;32m----> 1\u001b[0;31m \u001b[0mpredictor\u001b[0m\u001b[0;34m.\u001b[0m\u001b[0mpredict\u001b[0m\u001b[0;34m(\u001b[0m\u001b[0mcontext\u001b[0m\u001b[0;34m)\u001b[0m\u001b[0;34m\u001b[0m\u001b[0m\n\u001b[0m",
      "\u001b[0;32m~/anaconda3/envs/pytorch_p36/lib/python3.6/site-packages/sagemaker/predictor.py\u001b[0m in \u001b[0;36mpredict\u001b[0;34m(self, data, initial_args, target_model)\u001b[0m\n\u001b[1;32m    109\u001b[0m         \u001b[0mrequest_args\u001b[0m \u001b[0;34m=\u001b[0m \u001b[0mself\u001b[0m\u001b[0;34m.\u001b[0m\u001b[0m_create_request_args\u001b[0m\u001b[0;34m(\u001b[0m\u001b[0mdata\u001b[0m\u001b[0;34m,\u001b[0m \u001b[0minitial_args\u001b[0m\u001b[0;34m,\u001b[0m \u001b[0mtarget_model\u001b[0m\u001b[0;34m)\u001b[0m\u001b[0;34m\u001b[0m\u001b[0m\n\u001b[1;32m    110\u001b[0m         \u001b[0mresponse\u001b[0m \u001b[0;34m=\u001b[0m \u001b[0mself\u001b[0m\u001b[0;34m.\u001b[0m\u001b[0msagemaker_session\u001b[0m\u001b[0;34m.\u001b[0m\u001b[0msagemaker_runtime_client\u001b[0m\u001b[0;34m.\u001b[0m\u001b[0minvoke_endpoint\u001b[0m\u001b[0;34m(\u001b[0m\u001b[0;34m**\u001b[0m\u001b[0mrequest_args\u001b[0m\u001b[0;34m)\u001b[0m\u001b[0;34m\u001b[0m\u001b[0m\n\u001b[0;32m--> 111\u001b[0;31m         \u001b[0;32mreturn\u001b[0m \u001b[0mself\u001b[0m\u001b[0;34m.\u001b[0m\u001b[0m_handle_response\u001b[0m\u001b[0;34m(\u001b[0m\u001b[0mresponse\u001b[0m\u001b[0;34m)\u001b[0m\u001b[0;34m\u001b[0m\u001b[0m\n\u001b[0m\u001b[1;32m    112\u001b[0m \u001b[0;34m\u001b[0m\u001b[0m\n\u001b[1;32m    113\u001b[0m     \u001b[0;32mdef\u001b[0m \u001b[0m_handle_response\u001b[0m\u001b[0;34m(\u001b[0m\u001b[0mself\u001b[0m\u001b[0;34m,\u001b[0m \u001b[0mresponse\u001b[0m\u001b[0;34m)\u001b[0m\u001b[0;34m:\u001b[0m\u001b[0;34m\u001b[0m\u001b[0m\n",
      "\u001b[0;32m~/anaconda3/envs/pytorch_p36/lib/python3.6/site-packages/sagemaker/predictor.py\u001b[0m in \u001b[0;36m_handle_response\u001b[0;34m(self, response)\u001b[0m\n\u001b[1;32m    119\u001b[0m         \u001b[0;32mif\u001b[0m \u001b[0mself\u001b[0m\u001b[0;34m.\u001b[0m\u001b[0mdeserializer\u001b[0m \u001b[0;32mis\u001b[0m \u001b[0;32mnot\u001b[0m \u001b[0;32mNone\u001b[0m\u001b[0;34m:\u001b[0m\u001b[0;34m\u001b[0m\u001b[0m\n\u001b[1;32m    120\u001b[0m             \u001b[0;31m# It's the deserializer's responsibility to close the stream\u001b[0m\u001b[0;34m\u001b[0m\u001b[0;34m\u001b[0m\u001b[0m\n\u001b[0;32m--> 121\u001b[0;31m             \u001b[0;32mreturn\u001b[0m \u001b[0mself\u001b[0m\u001b[0;34m.\u001b[0m\u001b[0mdeserializer\u001b[0m\u001b[0;34m(\u001b[0m\u001b[0mresponse_body\u001b[0m\u001b[0;34m,\u001b[0m \u001b[0mresponse\u001b[0m\u001b[0;34m[\u001b[0m\u001b[0;34m\"ContentType\"\u001b[0m\u001b[0;34m]\u001b[0m\u001b[0;34m)\u001b[0m\u001b[0;34m\u001b[0m\u001b[0m\n\u001b[0m\u001b[1;32m    122\u001b[0m         \u001b[0mdata\u001b[0m \u001b[0;34m=\u001b[0m \u001b[0mresponse_body\u001b[0m\u001b[0;34m.\u001b[0m\u001b[0mread\u001b[0m\u001b[0;34m(\u001b[0m\u001b[0;34m)\u001b[0m\u001b[0;34m\u001b[0m\u001b[0m\n\u001b[1;32m    123\u001b[0m         \u001b[0mresponse_body\u001b[0m\u001b[0;34m.\u001b[0m\u001b[0mclose\u001b[0m\u001b[0;34m(\u001b[0m\u001b[0;34m)\u001b[0m\u001b[0;34m\u001b[0m\u001b[0m\n",
      "\u001b[0;32m~/anaconda3/envs/pytorch_p36/lib/python3.6/site-packages/sagemaker/predictor.py\u001b[0m in \u001b[0;36m__call__\u001b[0;34m(self, stream, content_type)\u001b[0m\n\u001b[1;32m    617\u001b[0m                 \u001b[0;32mreturn\u001b[0m \u001b[0mnp\u001b[0m\u001b[0;34m.\u001b[0m\u001b[0marray\u001b[0m\u001b[0;34m(\u001b[0m\u001b[0mjson\u001b[0m\u001b[0;34m.\u001b[0m\u001b[0mload\u001b[0m\u001b[0;34m(\u001b[0m\u001b[0mcodecs\u001b[0m\u001b[0;34m.\u001b[0m\u001b[0mgetreader\u001b[0m\u001b[0;34m(\u001b[0m\u001b[0;34m\"utf-8\"\u001b[0m\u001b[0;34m)\u001b[0m\u001b[0;34m(\u001b[0m\u001b[0mstream\u001b[0m\u001b[0;34m)\u001b[0m\u001b[0;34m)\u001b[0m\u001b[0;34m,\u001b[0m \u001b[0mdtype\u001b[0m\u001b[0;34m=\u001b[0m\u001b[0mself\u001b[0m\u001b[0;34m.\u001b[0m\u001b[0mdtype\u001b[0m\u001b[0;34m)\u001b[0m\u001b[0;34m\u001b[0m\u001b[0m\n\u001b[1;32m    618\u001b[0m             \u001b[0;32mif\u001b[0m \u001b[0mcontent_type\u001b[0m \u001b[0;34m==\u001b[0m \u001b[0mCONTENT_TYPE_NPY\u001b[0m\u001b[0;34m:\u001b[0m\u001b[0;34m\u001b[0m\u001b[0m\n\u001b[0;32m--> 619\u001b[0;31m                 \u001b[0;32mreturn\u001b[0m \u001b[0mnp\u001b[0m\u001b[0;34m.\u001b[0m\u001b[0mload\u001b[0m\u001b[0;34m(\u001b[0m\u001b[0mBytesIO\u001b[0m\u001b[0;34m(\u001b[0m\u001b[0mstream\u001b[0m\u001b[0;34m.\u001b[0m\u001b[0mread\u001b[0m\u001b[0;34m(\u001b[0m\u001b[0;34m)\u001b[0m\u001b[0;34m)\u001b[0m\u001b[0;34m)\u001b[0m\u001b[0;34m\u001b[0m\u001b[0m\n\u001b[0m\u001b[1;32m    620\u001b[0m         \u001b[0;32mfinally\u001b[0m\u001b[0;34m:\u001b[0m\u001b[0;34m\u001b[0m\u001b[0m\n\u001b[1;32m    621\u001b[0m             \u001b[0mstream\u001b[0m\u001b[0;34m.\u001b[0m\u001b[0mclose\u001b[0m\u001b[0;34m(\u001b[0m\u001b[0;34m)\u001b[0m\u001b[0;34m\u001b[0m\u001b[0m\n",
      "\u001b[0;32m~/anaconda3/envs/pytorch_p36/lib/python3.6/site-packages/numpy/lib/npyio.py\u001b[0m in \u001b[0;36mload\u001b[0;34m(file, mmap_mode, allow_pickle, fix_imports, encoding)\u001b[0m\n\u001b[1;32m    441\u001b[0m             \u001b[0;32mexcept\u001b[0m \u001b[0mException\u001b[0m\u001b[0;34m:\u001b[0m\u001b[0;34m\u001b[0m\u001b[0m\n\u001b[1;32m    442\u001b[0m                 raise IOError(\n\u001b[0;32m--> 443\u001b[0;31m                     \"Failed to interpret file %s as a pickle\" % repr(file))\n\u001b[0m\u001b[1;32m    444\u001b[0m     \u001b[0;32mfinally\u001b[0m\u001b[0;34m:\u001b[0m\u001b[0;34m\u001b[0m\u001b[0m\n\u001b[1;32m    445\u001b[0m         \u001b[0;32mif\u001b[0m \u001b[0mown_fid\u001b[0m\u001b[0;34m:\u001b[0m\u001b[0;34m\u001b[0m\u001b[0m\n",
      "\u001b[0;31mOSError\u001b[0m: Failed to interpret file <_io.BytesIO object at 0x7fd508f59258> as a pickle"
     ]
    }
   ],
   "source": [
    "predictor.predict(context)"
   ]
  },
  {
   "cell_type": "code",
   "execution_count": 177,
   "metadata": {},
   "outputs": [
    {
     "name": "stdout",
     "output_type": "stream",
     "text": [
      "INFO:sagemaker:Deleting endpoint configuration with name: model_v1\n",
      "INFO:sagemaker:Deleting endpoint with name: model_v1\n"
     ]
    }
   ],
   "source": [
    "predictor.delete_endpoint()"
   ]
  },
  {
   "cell_type": "code",
   "execution_count": 178,
   "metadata": {},
   "outputs": [
    {
     "name": "stdout",
     "output_type": "stream",
     "text": [
      "INFO:sagemaker:Deleting model with name: model_v1\n"
     ]
    }
   ],
   "source": [
    "predictor.delete_model()"
   ]
  },
  {
   "cell_type": "code",
   "execution_count": null,
   "metadata": {},
   "outputs": [],
   "source": []
  }
 ],
 "metadata": {
  "kernelspec": {
   "display_name": "conda_pytorch_p36",
   "language": "python",
   "name": "conda_pytorch_p36"
  },
  "language_info": {
   "codemirror_mode": {
    "name": "ipython",
    "version": 3
   },
   "file_extension": ".py",
   "mimetype": "text/x-python",
   "name": "python",
   "nbconvert_exporter": "python",
   "pygments_lexer": "ipython3",
   "version": "3.6.5"
  },
  "pycharm": {
   "stem_cell": {
    "cell_type": "raw",
    "metadata": {
     "collapsed": false
    },
    "source": []
   }
  }
 },
 "nbformat": 4,
 "nbformat_minor": 4
}
